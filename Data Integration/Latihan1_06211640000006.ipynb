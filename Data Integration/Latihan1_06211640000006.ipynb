{
  "cells": [
    {
      "metadata": {
        "collapsed": true
      },
      "cell_type": "markdown",
      "source": "# Praktikum1"
    },
    {
      "metadata": {
        "trusted": true
      },
      "cell_type": "code",
      "source": "# List\nfruits=[] #empty list\nfruits=['apple','banana'] #list with 2 elements\nanother_list=['this is string', 10] #list with different type of elements\n\nprint (fruits)\nprint(another_list)\ncombined=(fruits, another_list)\nprint (combined)",
      "execution_count": 13,
      "outputs": [
        {
          "output_type": "stream",
          "text": "['apple', 'banana']\n['this is string', 10]\n(['apple', 'banana'], ['this is string', 10])\n",
          "name": "stdout"
        }
      ]
    },
    {
      "metadata": {
        "trusted": true
      },
      "cell_type": "code",
      "source": "# Add elements\nfruits.append('orange') #append is the syntax to add\nprint(fruits)\n\nfruits=fruits+['mango']\nprint(fruits)",
      "execution_count": 14,
      "outputs": [
        {
          "output_type": "stream",
          "text": "['apple', 'banana', 'orange']\n['apple', 'banana', 'orange', 'mango']\n",
          "name": "stdout"
        }
      ]
    },
    {
      "metadata": {
        "trusted": true
      },
      "cell_type": "code",
      "source": "# Tuple\n# tuple is similar to list but immutable once created\n# 1. list bisa ditambahkan isinya, kalau tuple gabisa\n# 2. list bisa gabungan tipe datanya;string, numerik, dll\n# 3. list pakai kurung siku, tuple kurung biasa, set pakai\ncoordinate = (0,5)\ncolors =('red', 'green','blue')\nprint (coordinate)\nprint(colors)",
      "execution_count": 15,
      "outputs": [
        {
          "output_type": "stream",
          "text": "(0, 5)\n('red', 'green', 'blue')\n",
          "name": "stdout"
        }
      ]
    },
    {
      "metadata": {
        "trusted": true
      },
      "cell_type": "code",
      "source": "## Data Integration\nimport pandas as pd\nimport numpy as np",
      "execution_count": 16,
      "outputs": []
    },
    {
      "metadata": {
        "trusted": true
      },
      "cell_type": "code",
      "source": "##Merging\nleft=pd.DataFrame({'key':['K0','K1','K2','K3'],\n                  'A':['A0','A1','A2','A3'],\n                  'B':['B0','B1','B2','B3']})\n\nright=pd.DataFrame({'key':['K0','K1','K2','K3'],\n                  'C':['C0','C1','C2','C3'],\n                  'D':['D0','D1','D2','D3']})\n\nresult1=pd.merge(left, right, on='key')\nprint(result1)",
      "execution_count": 17,
      "outputs": [
        {
          "output_type": "stream",
          "text": "    A   B key   C   D\n0  A0  B0  K0  C0  D0\n1  A1  B1  K1  C1  D1\n2  A2  B2  K2  C2  D2\n3  A3  B3  K3  C3  D3\n",
          "name": "stdout"
        }
      ]
    },
    {
      "metadata": {
        "trusted": true
      },
      "cell_type": "code",
      "source": "##Merging\nleft=pd.DataFrame({'key1':['K0','K0','K1','K2'],\n                   'key2':['K0','K1','K0','K1'],\n                  'A':['A0','A1','A2','A3'],\n                  'B':['B0','B1','B2','B3']})\n\nright=pd.DataFrame({'key1':['K0','K1','K1','K2'],\n                    'key2':['K0','K0','K0','K0'],\n                  'C':['C0','C1','C2','C3'],\n                  'D':['D0','D1','D2','D3']})\n\nresult2=pd.merge(left, right, on=['key1','key2'])\nprint(result2)",
      "execution_count": 21,
      "outputs": [
        {
          "output_type": "stream",
          "text": "    A   B key1 key2   C   D\n0  A0  B0   K0   K0  C0  D0\n1  A2  B2   K1   K0  C1  D1\n2  A2  B2   K1   K0  C2  D2\n",
          "name": "stdout"
        }
      ]
    },
    {
      "metadata": {
        "trusted": true
      },
      "cell_type": "code",
      "source": "#ekspor data\ndata1=pd.read_csv('#letak data')\ndata2=pd.read_xlsx('#letak data')",
      "execution_count": null,
      "outputs": []
    },
    {
      "metadata": {
        "trusted": true
      },
      "cell_type": "code",
      "source": "data1=pd.read_csv('Book1.csv')\ndata2=pd.read_csv('Book2.csv')\n\ndata=pd.merge(data1,data2,on='nama')\ndata.head()",
      "execution_count": 28,
      "outputs": [
        {
          "output_type": "execute_result",
          "execution_count": 28,
          "data": {
            "text/html": "<div>\n<style scoped>\n    .dataframe tbody tr th:only-of-type {\n        vertical-align: middle;\n    }\n\n    .dataframe tbody tr th {\n        vertical-align: top;\n    }\n\n    .dataframe thead th {\n        text-align: right;\n    }\n</style>\n<table border=\"1\" class=\"dataframe\">\n  <thead>\n    <tr style=\"text-align: right;\">\n      <th></th>\n      <th>nama</th>\n      <th>tinggi</th>\n      <th>berat</th>\n    </tr>\n  </thead>\n  <tbody>\n    <tr>\n      <th>0</th>\n      <td>aa</td>\n      <td>11</td>\n      <td>88</td>\n    </tr>\n    <tr>\n      <th>1</th>\n      <td>bb</td>\n      <td>22</td>\n      <td>77</td>\n    </tr>\n    <tr>\n      <th>2</th>\n      <td>cc</td>\n      <td>33</td>\n      <td>66</td>\n    </tr>\n    <tr>\n      <th>3</th>\n      <td>dd</td>\n      <td>44</td>\n      <td>55</td>\n    </tr>\n    <tr>\n      <th>4</th>\n      <td>ee</td>\n      <td>55</td>\n      <td>44</td>\n    </tr>\n  </tbody>\n</table>\n</div>",
            "text/plain": "  nama  tinggi  berat\n0   aa      11     88\n1   bb      22     77\n2   cc      33     66\n3   dd      44     55\n4   ee      55     44"
          },
          "metadata": {}
        }
      ]
    },
    {
      "metadata": {
        "trusted": true
      },
      "cell_type": "code",
      "source": "print(data)",
      "execution_count": 29,
      "outputs": [
        {
          "output_type": "stream",
          "text": "  nama  tinggi  berat\n0   aa      11     88\n1   bb      22     77\n2   cc      33     66\n3   dd      44     55\n4   ee      55     44\n5   ff      66     33\n6   gg      77     22\n7   hh      88     11\n",
          "name": "stdout"
        }
      ]
    }
  ],
  "metadata": {
    "kernelspec": {
      "name": "python36",
      "display_name": "Python 3.6",
      "language": "python"
    },
    "language_info": {
      "mimetype": "text/x-python",
      "nbconvert_exporter": "python",
      "name": "python",
      "pygments_lexer": "ipython3",
      "version": "3.6.6",
      "file_extension": ".py",
      "codemirror_mode": {
        "version": 3,
        "name": "ipython"
      }
    }
  },
  "nbformat": 4,
  "nbformat_minor": 2
}