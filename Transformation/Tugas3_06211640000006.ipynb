{
  "cells": [
    {
      "metadata": {
        "collapsed": true
      },
      "cell_type": "markdown",
      "source": "# Tugas 3"
    },
    {
      "metadata": {},
      "cell_type": "markdown",
      "source": "## Transformation"
    },
    {
      "metadata": {
        "trusted": true
      },
      "cell_type": "code",
      "source": "import pandas as pd\nimport numpy as np",
      "execution_count": 1,
      "outputs": []
    },
    {
      "metadata": {
        "trusted": true
      },
      "cell_type": "code",
      "source": "qfta=pd.read_csv('qfta.csv', )\nqfta.head()",
      "execution_count": 2,
      "outputs": [
        {
          "output_type": "execute_result",
          "execution_count": 2,
          "data": {
            "text/html": "<div>\n<style scoped>\n    .dataframe tbody tr th:only-of-type {\n        vertical-align: middle;\n    }\n\n    .dataframe tbody tr th {\n        vertical-align: top;\n    }\n\n    .dataframe thead th {\n        text-align: right;\n    }\n</style>\n<table border=\"1\" class=\"dataframe\">\n  <thead>\n    <tr style=\"text-align: right;\">\n      <th></th>\n      <th>Quarter</th>\n      <th>Year</th>\n      <th>GDP (Rupee Billions)</th>\n      <th>Agriculture, Forest, Fishing</th>\n      <th>Industry</th>\n      <th>Manufactur</th>\n      <th>Construction</th>\n      <th>Services</th>\n      <th>Distribution Trade</th>\n      <th>Real Estate Activities</th>\n      <th>Public Admin</th>\n      <th>Foreign Exchange Earning (Rupee Croses)</th>\n      <th>Foreign Tourists Arrival</th>\n    </tr>\n  </thead>\n  <tbody>\n    <tr>\n      <th>0</th>\n      <td>1st</td>\n      <td>2005</td>\n      <td>13068</td>\n      <td>2861.0</td>\n      <td>2800.0</td>\n      <td>2030</td>\n      <td>1095.0</td>\n      <td>5449.0</td>\n      <td>1984.0</td>\n      <td>1854.0</td>\n      <td>1610.0</td>\n      <td>9393</td>\n      <td>1108967</td>\n    </tr>\n    <tr>\n      <th>1</th>\n      <td>2nd</td>\n      <td>2005</td>\n      <td>13455</td>\n      <td>2901.0</td>\n      <td>2861.0</td>\n      <td>2073</td>\n      <td>1139.0</td>\n      <td>5588.0</td>\n      <td>2048.0</td>\n      <td>1900.0</td>\n      <td>1639.0</td>\n      <td>6257</td>\n      <td>721024</td>\n    </tr>\n    <tr>\n      <th>2</th>\n      <td>3rd</td>\n      <td>2005</td>\n      <td>13644</td>\n      <td>2943.0</td>\n      <td>2891.0</td>\n      <td>2110</td>\n      <td>1166.0</td>\n      <td>5699.0</td>\n      <td>2091.0</td>\n      <td>1934.0</td>\n      <td>1673.0</td>\n      <td>6964</td>\n      <td>838583</td>\n    </tr>\n    <tr>\n      <th>3</th>\n      <td>4th</td>\n      <td>2005</td>\n      <td>13990</td>\n      <td>2997.0</td>\n      <td>2970.0</td>\n      <td>2177</td>\n      <td>1232.0</td>\n      <td>NaN</td>\n      <td>2152.0</td>\n      <td>1990.0</td>\n      <td>1701.0</td>\n      <td>10509</td>\n      <td>1250037</td>\n    </tr>\n    <tr>\n      <th>4</th>\n      <td>1st</td>\n      <td>2006</td>\n      <td>14341</td>\n      <td>3007.0</td>\n      <td>3042.0</td>\n      <td>2230</td>\n      <td>1254.0</td>\n      <td>6062.0</td>\n      <td>2222.0</td>\n      <td>2123.0</td>\n      <td>1717.0</td>\n      <td>11910</td>\n      <td>1267443</td>\n    </tr>\n  </tbody>\n</table>\n</div>",
            "text/plain": "  Quarter  Year  GDP (Rupee Billions)  Agriculture, Forest, Fishing  Industry  \\\n0     1st  2005                 13068                        2861.0    2800.0   \n1     2nd  2005                 13455                        2901.0    2861.0   \n2     3rd  2005                 13644                        2943.0    2891.0   \n3     4th  2005                 13990                        2997.0    2970.0   \n4     1st  2006                 14341                        3007.0    3042.0   \n\n   Manufactur  Construction  Services  Distribution Trade  \\\n0        2030        1095.0    5449.0              1984.0   \n1        2073        1139.0    5588.0              2048.0   \n2        2110        1166.0    5699.0              2091.0   \n3        2177        1232.0       NaN              2152.0   \n4        2230        1254.0    6062.0              2222.0   \n\n   Real Estate Activities  Public Admin  \\\n0                  1854.0        1610.0   \n1                  1900.0        1639.0   \n2                  1934.0        1673.0   \n3                  1990.0        1701.0   \n4                  2123.0        1717.0   \n\n   Foreign Exchange Earning (Rupee Croses)  Foreign Tourists Arrival  \n0                                     9393                   1108967  \n1                                     6257                    721024  \n2                                     6964                    838583  \n3                                    10509                   1250037  \n4                                    11910                   1267443  "
          },
          "metadata": {}
        }
      ]
    },
    {
      "metadata": {
        "trusted": true
      },
      "cell_type": "code",
      "source": "qfta.describe()",
      "execution_count": 3,
      "outputs": [
        {
          "output_type": "execute_result",
          "execution_count": 3,
          "data": {
            "text/html": "<div>\n<style scoped>\n    .dataframe tbody tr th:only-of-type {\n        vertical-align: middle;\n    }\n\n    .dataframe tbody tr th {\n        vertical-align: top;\n    }\n\n    .dataframe thead th {\n        text-align: right;\n    }\n</style>\n<table border=\"1\" class=\"dataframe\">\n  <thead>\n    <tr style=\"text-align: right;\">\n      <th></th>\n      <th>Year</th>\n      <th>GDP (Rupee Billions)</th>\n      <th>Agriculture, Forest, Fishing</th>\n      <th>Industry</th>\n      <th>Manufactur</th>\n      <th>Construction</th>\n      <th>Services</th>\n      <th>Distribution Trade</th>\n      <th>Real Estate Activities</th>\n      <th>Public Admin</th>\n      <th>Foreign Exchange Earning (Rupee Croses)</th>\n      <th>Foreign Tourists Arrival</th>\n    </tr>\n  </thead>\n  <tbody>\n    <tr>\n      <th>count</th>\n      <td>48.000000</td>\n      <td>48.000000</td>\n      <td>43.000000</td>\n      <td>45.000000</td>\n      <td>48.000000</td>\n      <td>46.000000</td>\n      <td>45.000000</td>\n      <td>42.000000</td>\n      <td>44.000000</td>\n      <td>45.000000</td>\n      <td>48.000000</td>\n      <td>4.800000e+01</td>\n    </tr>\n    <tr>\n      <th>mean</th>\n      <td>2010.500000</td>\n      <td>21035.708333</td>\n      <td>3583.720930</td>\n      <td>4498.222222</td>\n      <td>3426.562500</td>\n      <td>1741.956522</td>\n      <td>9670.311111</td>\n      <td>3444.523810</td>\n      <td>3684.113636</td>\n      <td>2434.377778</td>\n      <td>21090.895833</td>\n      <td>1.544850e+06</td>\n    </tr>\n    <tr>\n      <th>std</th>\n      <td>3.488583</td>\n      <td>5114.083217</td>\n      <td>434.443395</td>\n      <td>1047.664261</td>\n      <td>868.946339</td>\n      <td>343.028470</td>\n      <td>2874.303899</td>\n      <td>984.683885</td>\n      <td>1392.167496</td>\n      <td>574.606873</td>\n      <td>12782.067301</td>\n      <td>4.753483e+05</td>\n    </tr>\n    <tr>\n      <th>min</th>\n      <td>2005.000000</td>\n      <td>13068.000000</td>\n      <td>2861.000000</td>\n      <td>2800.000000</td>\n      <td>2030.000000</td>\n      <td>1095.000000</td>\n      <td>5449.000000</td>\n      <td>1984.000000</td>\n      <td>1854.000000</td>\n      <td>1610.000000</td>\n      <td>2970.000000</td>\n      <td>7.210240e+05</td>\n    </tr>\n    <tr>\n      <th>25%</th>\n      <td>2007.750000</td>\n      <td>17097.250000</td>\n      <td>3248.000000</td>\n      <td>3615.000000</td>\n      <td>2733.250000</td>\n      <td>1492.000000</td>\n      <td>7374.000000</td>\n      <td>2600.000000</td>\n      <td>2647.500000</td>\n      <td>1840.000000</td>\n      <td>12124.500000</td>\n      <td>1.214037e+06</td>\n    </tr>\n    <tr>\n      <th>50%</th>\n      <td>2010.500000</td>\n      <td>21167.000000</td>\n      <td>3674.000000</td>\n      <td>4577.000000</td>\n      <td>3394.500000</td>\n      <td>1727.000000</td>\n      <td>9400.000000</td>\n      <td>3464.500000</td>\n      <td>3385.000000</td>\n      <td>2421.000000</td>\n      <td>18172.000000</td>\n      <td>1.489474e+06</td>\n    </tr>\n    <tr>\n      <th>75%</th>\n      <td>2013.250000</td>\n      <td>24863.750000</td>\n      <td>4006.000000</td>\n      <td>5150.000000</td>\n      <td>3975.500000</td>\n      <td>2021.750000</td>\n      <td>11408.000000</td>\n      <td>4119.000000</td>\n      <td>4450.750000</td>\n      <td>2850.000000</td>\n      <td>29301.500000</td>\n      <td>1.837222e+06</td>\n    </tr>\n    <tr>\n      <th>max</th>\n      <td>2016.000000</td>\n      <td>30706.000000</td>\n      <td>4333.000000</td>\n      <td>6739.000000</td>\n      <td>5171.000000</td>\n      <td>2229.000000</td>\n      <td>16017.000000</td>\n      <td>5253.000000</td>\n      <td>7272.000000</td>\n      <td>3592.000000</td>\n      <td>72432.000000</td>\n      <td>2.641323e+06</td>\n    </tr>\n  </tbody>\n</table>\n</div>",
            "text/plain": "              Year  GDP (Rupee Billions)  Agriculture, Forest, Fishing  \\\ncount    48.000000             48.000000                     43.000000   \nmean   2010.500000          21035.708333                   3583.720930   \nstd       3.488583           5114.083217                    434.443395   \nmin    2005.000000          13068.000000                   2861.000000   \n25%    2007.750000          17097.250000                   3248.000000   \n50%    2010.500000          21167.000000                   3674.000000   \n75%    2013.250000          24863.750000                   4006.000000   \nmax    2016.000000          30706.000000                   4333.000000   \n\n          Industry   Manufactur  Construction      Services  \\\ncount    45.000000    48.000000     46.000000     45.000000   \nmean   4498.222222  3426.562500   1741.956522   9670.311111   \nstd    1047.664261   868.946339    343.028470   2874.303899   \nmin    2800.000000  2030.000000   1095.000000   5449.000000   \n25%    3615.000000  2733.250000   1492.000000   7374.000000   \n50%    4577.000000  3394.500000   1727.000000   9400.000000   \n75%    5150.000000  3975.500000   2021.750000  11408.000000   \nmax    6739.000000  5171.000000   2229.000000  16017.000000   \n\n       Distribution Trade  Real Estate Activities  Public Admin  \\\ncount           42.000000               44.000000     45.000000   \nmean          3444.523810             3684.113636   2434.377778   \nstd            984.683885             1392.167496    574.606873   \nmin           1984.000000             1854.000000   1610.000000   \n25%           2600.000000             2647.500000   1840.000000   \n50%           3464.500000             3385.000000   2421.000000   \n75%           4119.000000             4450.750000   2850.000000   \nmax           5253.000000             7272.000000   3592.000000   \n\n       Foreign Exchange Earning (Rupee Croses)  Foreign Tourists Arrival  \ncount                                48.000000              4.800000e+01  \nmean                              21090.895833              1.544850e+06  \nstd                               12782.067301              4.753483e+05  \nmin                                2970.000000              7.210240e+05  \n25%                               12124.500000              1.214037e+06  \n50%                               18172.000000              1.489474e+06  \n75%                               29301.500000              1.837222e+06  \nmax                               72432.000000              2.641323e+06  "
          },
          "metadata": {}
        }
      ]
    },
    {
      "metadata": {
        "trusted": true
      },
      "cell_type": "code",
      "source": "np.sum(qfta.isnull())",
      "execution_count": 4,
      "outputs": [
        {
          "output_type": "execute_result",
          "execution_count": 4,
          "data": {
            "text/plain": "Quarter                                    0\nYear                                       0\nGDP (Rupee Billions)                       0\nAgriculture, Forest, Fishing               5\nIndustry                                   3\nManufactur                                 0\nConstruction                               2\nServices                                   3\nDistribution Trade                         6\nReal Estate Activities                     4\nPublic Admin                               3\nForeign Exchange Earning (Rupee Croses)    0\nForeign Tourists Arrival                   0\ndtype: int64"
          },
          "metadata": {}
        }
      ]
    },
    {
      "metadata": {
        "trusted": true
      },
      "cell_type": "code",
      "source": "qfta['Agriculture, Forest, Fishing']=qfta['Agriculture, Forest, Fishing'].fillna(qfta['Agriculture, Forest, Fishing'].mean())\nqfta['Industry']=qfta['Industry'].fillna(qfta['Industry'].mean())\nqfta['Construction']=qfta['Construction'].fillna(qfta['Construction'].mean())\nqfta['Services']=qfta['Services'].fillna(qfta['Services'].mean())\nqfta['Distribution Trade']=qfta['Distribution Trade'].fillna(qfta['Distribution Trade'].mean())\nqfta['Real Estate Activities']=qfta['Real Estate Activities'].fillna(qfta['Real Estate Activities'].mean())\nqfta['Public Admin']=qfta['Public Admin'].fillna(qfta['Public Admin'].mean())\nnp.sum(qfta.isnull())",
      "execution_count": 5,
      "outputs": [
        {
          "output_type": "execute_result",
          "execution_count": 5,
          "data": {
            "text/plain": "Quarter                                    0\nYear                                       0\nGDP (Rupee Billions)                       0\nAgriculture, Forest, Fishing               0\nIndustry                                   0\nManufactur                                 0\nConstruction                               0\nServices                                   0\nDistribution Trade                         0\nReal Estate Activities                     0\nPublic Admin                               0\nForeign Exchange Earning (Rupee Croses)    0\nForeign Tourists Arrival                   0\ndtype: int64"
          },
          "metadata": {}
        }
      ]
    },
    {
      "metadata": {
        "trusted": true
      },
      "cell_type": "code",
      "source": "#missing value\nqfta.to_csv('qfta_missingvalue.csv')",
      "execution_count": 6,
      "outputs": []
    },
    {
      "metadata": {
        "trusted": true
      },
      "cell_type": "code",
      "source": "from scipy.stats import stats\nz = np.abs(stats.zscore(qfta._get_numeric_data()))\nprint(z)",
      "execution_count": 7,
      "outputs": [
        {
          "output_type": "stream",
          "text": "[[1.59325501e+00 1.57448065e+00 1.77841621e+00 1.69303786e+00\n  1.62419851e+00 1.94786696e+00 1.53394207e+00 1.60487237e+00\n  1.38890633e+00 1.49847582e+00 9.24864989e-01 9.26679787e-01]\n [1.59325501e+00 1.49800646e+00 1.67998728e+00 1.63222409e+00\n  1.57418962e+00 1.81539106e+00 1.48343218e+00 1.53454703e+00\n  1.35399610e+00 1.44576237e+00 1.17280502e+00 1.75143996e+00]\n [1.59325501e+00 1.46065860e+00 1.57663690e+00 1.60231567e+00\n  1.53115872e+00 1.73409903e+00 1.44309695e+00 1.48729720e+00\n  1.32819289e+00 1.38396039e+00 1.11690782e+00 1.50151154e+00]\n [1.59325501e+00 1.39228633e+00 1.44375784e+00 1.52355684e+00\n  1.45323790e+00 1.53538518e+00 6.60985246e-16 1.42026836e+00\n  1.28569347e+00 1.33306464e+00 8.36631230e-01 6.26767385e-01]\n [1.30357228e+00 1.32292602e+00 1.41915061e+00 1.45177664e+00\n  1.39159904e+00 1.46914724e+00 1.31118983e+00 1.34335002e+00\n  1.18475737e+00 1.30398136e+00 7.25864655e-01 5.89762527e-01]\n [1.30357228e+00 1.28538056e+00 1.35271108e+00 1.32516435e+00\n  1.27995129e+00 1.43000663e+00 1.28793348e+00 1.31038502e+00\n  1.16047199e+00 1.30034595e+00 1.06931219e+00 1.46904140e+00]\n [1.30357228e+00 1.19369058e+00 1.27150721e+00 1.22746353e+00\n  1.18109651e+00 1.37280113e+00 1.23851373e+00 1.21039118e+00\n  1.12556176e+00 1.30216365e+00 1.43268348e+00 1.30831284e+00]\n [1.30357228e+00 1.12373745e+00 1.25182143e+00 1.12677186e+00\n  1.08456773e+00 1.18613054e+00 1.17455877e+00 1.12248450e+00\n  1.06484831e+00 1.27489808e+00 9.58308430e-01 3.15580896e-01]\n [1.01388955e+00 1.05635322e+00 1.03035633e+00 1.01810462e+00\n  9.74082983e-01 1.07473036e+00 1.09679535e+00 1.05545566e+00\n  9.59358698e-01 1.24763250e+00 5.28445571e-01 1.85968225e-01]\n [1.01388955e+00 9.89759415e-01 9.36848850e-01 9.91187045e-01\n  9.51986033e-01 9.99459961e-01 1.06481786e+00 1.01479883e+00\n  3.45115988e-16 1.17128888e+00 9.86770934e-01 1.29653703e+00]\n [1.01388955e+00 9.39567055e-01 8.35959196e-01 9.14422112e-01\n  8.89184175e-01 8.48919168e-01 1.01394460e+00 9.58758322e-01\n  9.16100367e-01 1.09858067e+00 9.47239679e-01 1.02645854e+00]\n [1.01388955e+00 7.78714374e-01 5.99729763e-01 9.06718183e-16\n  7.79862422e-01 7.43540613e-01 9.40905119e-01 8.35688979e-01\n  8.56145839e-01 1.08040361e+00 6.08298705e-01 6.46638947e-02]\n [7.24206824e-01 7.78121551e-01 7.74441114e-01 7.56904457e-01\n  7.25201546e-01 7.55583876e-01 8.34434638e-01 7.48881139e-01\n  7.63557833e-01 9.11357024e-01 5.28445571e-01 1.85968225e-01]\n [7.24206824e-01 7.57175133e-01 7.32608819e-01 6.58206686e-01\n  6.06575815e-01 6.17086346e-01 7.82107849e-01 4.99691587e-16\n  7.43067044e-01 8.36831108e-01 8.42798105e-01 1.09433267e+00]\n [7.24206824e-01 7.38797616e-01 7.89205454e-01 6.64188369e-01\n  6.34487751e-01 5.68913293e-01 7.45769801e-01 6.55480298e-01\n  7.10433567e-01 7.49581256e-01 7.03252778e-01 8.47257320e-01]\n [7.24206824e-01 7.09551674e-01 8.16273410e-01 9.06718183e-16\n  6.74029662e-01 6.92356743e-01 6.61828909e-01 6.62073299e-01\n  6.26952578e-01 5.18732688e-01 5.40067760e-01 1.50953287e-01]\n [4.34524095e-01 7.69031596e-01 7.79362561e-01 8.80525908e-01\n  8.85695183e-01 5.26761871e-01 5.98600705e-01 7.06026636e-01\n  4.83517060e-01 4.73290056e-01 6.15967768e-01 2.96013350e-01]\n [4.34524095e-01 5.87034889e-01 1.11900739e-15 5.26609657e-01\n  5.21677007e-01 4.30415763e-01 5.09572487e-01 5.09335453e-01\n  4.97177585e-01 3.20602814e-01 7.81287474e-01 1.16394160e+00]\n [4.34524095e-01 4.95740125e-01 7.37530265e-01 3.62113372e-01\n  3.60020373e-01 3.09983129e-01 4.30355542e-01 3.82969610e-01\n  4.72892207e-01 1.91545741e-01 6.23874019e-01 8.89281623e-01]\n [4.34524095e-01 4.16104215e-01 1.11900739e-15 2.70394231e-01\n  2.53024615e-01 2.79874970e-01 3.72941426e-01 3.00557103e-01\n  4.30392794e-01 0.00000000e+00 4.02498995e-01 1.98377587e-01]\n [1.44841365e-01 3.18288395e-01 5.28368788e-01 1.93629298e-01\n  1.83244773e-01 1.50409888e-01 2.92634340e-01 2.02760929e-01\n  3.26421017e-01 1.51556225e-01 2.64455855e-01 1.90639009e-01]\n [1.44841365e-01 2.21263007e-01 2.82296462e-01 1.39794150e-01\n  1.55332836e-01 1.35355809e-01 2.11600492e-01 4.99691587e-16\n  2.76332423e-01 1.22472941e-01 5.90114328e-01 9.75868653e-01]\n [1.44841365e-01 1.28189772e-01 1.11900739e-15 5.80444805e-02\n  9.60199702e-02 1.23312545e-01 1.56366659e-01 2.79940895e-02\n  2.40663273e-01 5.70355517e-02 5.01959631e-01 6.07497477e-01]\n [1.44841365e-01 1.99007438e-02 8.06888326e-03 1.06451805e-01\n  9.58745955e-02 3.32498795e-02 9.82257818e-02 8.84299277e-02\n  1.73878482e-01 2.43168570e-02 1.83179597e-01 5.34450831e-01]\n [1.44841365e-01 7.17892366e-02 2.22151807e-01 1.09442647e-01\n  1.34253509e-01 1.86801488e-01 1.15151237e-02 2.12598104e-01\n  8.96385745e-02 1.15646448e-01 1.69106470e-01 5.11639035e-01]\n [1.44841365e-01 1.45496915e-01 2.86130612e-01 2.49015252e-01\n  2.05196348e-01 4.06591046e-01 1.27796878e-01 1.59069219e-02\n  2.73883187e-01 1.53818258e-01 3.85816806e-01 6.55317209e-01]\n [1.44841365e-01 8.28552687e-02 2.93512782e-01 2.91330122e-02\n  9.36939754e-02 6.56488763e-01 1.75399721e-01 4.99691587e-16\n  3.20177191e-01 2.06531711e-01 1.97094598e-01 4.80946221e-01]\n [1.44841365e-01 1.66048117e-01 6.08485359e-01 7.85372838e-02\n  1.91167692e-02 6.92618553e-01 5.09863192e-02 1.06011262e-01\n  2.13342222e-01 2.73786806e-01 2.16560447e-01 9.00623741e-01]\n [4.34524095e-01 2.41929480e-01 4.95292089e-01 2.83908404e-01\n  3.27311072e-01 6.84580268e-16 1.17985605e-01 2.06005104e-01\n  5.30380252e-02 0.00000000e+00 3.06533581e-01 8.82958950e-01]\n [4.34524095e-01 3.05954380e-01 4.78067027e-01 2.65963355e-01\n  1.99381361e-01 6.84580268e-16 4.33763244e-01 4.00498619e-01\n  5.62272059e-01 3.55583542e-01 1.81756471e-01 6.13348181e-01]\n [4.34524095e-01 3.60889325e-01 5.19899322e-01 3.59676390e-01\n  3.55223008e-01 5.30034497e-01 5.06075960e-01 4.65329791e-01\n  6.40440622e-01 4.21020932e-01 9.56738710e-02 4.17568546e-01]\n [4.34524095e-01 4.19183602e-01 1.11900739e-15 3.65658073e-01\n  3.33126058e-01 6.44445499e-01 2.47712437e-01 4.94998293e-01\n  7.27698953e-02 4.41015690e-01 5.79931736e-01 9.94832420e-01]\n [7.24206824e-01 4.92100849e-01 6.79846334e-01 4.22484063e-01\n  4.64544761e-01 8.40148530e-01 3.84706879e-01 5.43346964e-01\n  2.90579385e-01 5.24630132e-01 7.50627692e-01 1.07069812e+00]\n [7.24206824e-01 5.60868334e-01 9.06232874e-01 4.22484063e-01\n  4.38958819e-01 7.22726712e-01 7.23740868e-01 5.59829465e-01\n  3.45115988e-16 5.90067521e-01 7.02832758e-03 4.84666691e-01]\n [7.24206824e-01 6.38330559e-01 9.89897465e-01 5.05230679e-01\n  4.93619695e-01 7.85953845e-01 6.60985246e-16 4.99691587e-16\n  1.18230813e+00 0.00000000e+00 2.91827955e-01 2.03220576e-01]\n [7.24206824e-01 7.42074610e-01 1.22120545e+00 6.49788021e-01\n  6.40157364e-01 7.76921397e-01 5.20247798e-01 8.94973659e-01\n  3.14105846e-01 5.64619647e-01 8.07315511e-01 1.29289309e+00]\n [1.01388955e+00 7.99578456e-01 1.20644111e+00 6.57763598e-01\n  6.37831369e-01 8.43159346e-01 6.31442226e-01 8.01572818e-01\n  5.31915336e-01 7.55478700e-01 9.93191468e-01 1.40113113e+00]\n [1.01388955e+00 9.11424423e-01 1.06864061e+00 8.72107243e-01\n  8.35540921e-01 1.01176503e+00 6.60985246e-16 1.03342667e+00\n  3.45115988e-16 8.57270194e-01 3.47092648e-01 8.45014408e-02]\n [1.01388955e+00 1.00528809e+00 1.09324784e+00 9.35911863e-01\n  9.04157766e-01 1.11714359e+00 1.35093558e+00 1.13781584e+00\n  1.70292594e+00 9.91780383e-01 6.82712997e-01 2.25685837e-01]\n [1.01388955e+00 1.08334314e+00 1.05141555e+00 9.32921021e-01\n  8.49496890e-01 1.01477585e+00 9.19239567e-01 4.99691587e-16\n  6.91288133e-01 1.18445714e+00 1.05699491e+00 1.64601672e+00]\n [1.30357228e+00 1.17621876e+00 1.02680831e+00 1.12034709e+00\n  1.05534742e+00 1.02380830e+00 1.05223682e+00 1.37186736e+00\n  8.57491194e-01 1.13537910e+00 1.08980585e+00 1.56229126e+00]\n [1.30357228e+00 1.29814272e+00 1.06125844e+00 1.37058084e+00\n  1.30655486e+00 1.26166275e+00 1.53226244e+00 1.50043087e+00\n  1.73024699e+00 1.23353518e+00 6.37963617e-01 4.34572157e-02]\n [1.30357228e+00 1.41216238e+00 1.11047291e+00 1.55501606e+00\n  1.46588549e+00 1.17735991e+00 1.85240064e+00 1.57844805e+00\n  2.30171231e+00 1.33714438e+00 1.00544616e+00 4.87160469e-01]\n [1.30357228e+00 1.51393035e+00 1.11900739e-15 1.70356119e+00\n  1.59497820e+00 1.30983580e+00 1.31532429e+00 1.70371506e+00\n  1.05405098e+00 1.43166506e+00 1.28548556e+00 1.83533974e+00]\n [1.59325501e+00 1.64850120e+00 1.24581268e+00 1.87304222e+00\n  1.77524279e+00 1.36101967e+00 1.48538636e+00 1.98501641e+00\n  3.45115988e-16 1.50437327e+00 1.52006403e+00 2.03159560e+00]\n [1.59325501e+00 1.73999358e+00 1.52141369e+00 1.97173999e+00\n  1.83339266e+00 1.45134415e+00 2.00138664e+00 1.95095258e+00\n  2.20684755e+00 1.69341461e+00 4.05915649e+00 2.53383141e-01]\n [1.59325501e+00 1.82773140e+00 1.67889998e+00 9.06718183e-16\n  1.91015049e+00 1.43327925e+00 2.30626287e+00 1.98721408e+00\n  2.72291184e+00 1.92244548e+00 1.37482620e+00 9.45949696e-01]\n [1.59325501e+00 1.91092425e+00 1.84376844e+00 2.23393710e+00\n  2.02877622e+00 1.46639823e+00 1.63873292e+00 4.99691587e-16\n  1.16333518e+00 2.10421600e+00 1.72562655e+00 2.33108281e+00]]\n",
          "name": "stdout"
        }
      ]
    },
    {
      "metadata": {
        "trusted": true
      },
      "cell_type": "code",
      "source": "print(np.where(z>3))\nqfta1=qfta[(z<3).all(axis=1)]\nprint(qfta.shape)\nprint(qfta1.shape)",
      "execution_count": 8,
      "outputs": [
        {
          "output_type": "stream",
          "text": "(array([45]), array([10]))\n(48, 13)\n(47, 13)\n",
          "name": "stdout"
        }
      ]
    },
    {
      "metadata": {
        "trusted": true
      },
      "cell_type": "code",
      "source": "#missing value & outlier\nqfta1.to_csv('qfta_missvalout.csv')",
      "execution_count": 9,
      "outputs": []
    },
    {
      "metadata": {
        "trusted": true
      },
      "cell_type": "code",
      "source": "x=qfta.iloc[0:50,2:13]\nx.tail()",
      "execution_count": 10,
      "outputs": [
        {
          "output_type": "execute_result",
          "execution_count": 10,
          "data": {
            "text/html": "<div>\n<style scoped>\n    .dataframe tbody tr th:only-of-type {\n        vertical-align: middle;\n    }\n\n    .dataframe tbody tr th {\n        vertical-align: top;\n    }\n\n    .dataframe thead th {\n        text-align: right;\n    }\n</style>\n<table border=\"1\" class=\"dataframe\">\n  <thead>\n    <tr style=\"text-align: right;\">\n      <th></th>\n      <th>GDP (Rupee Billions)</th>\n      <th>Agriculture, Forest, Fishing</th>\n      <th>Industry</th>\n      <th>Manufactur</th>\n      <th>Construction</th>\n      <th>Services</th>\n      <th>Distribution Trade</th>\n      <th>Real Estate Activities</th>\n      <th>Public Admin</th>\n      <th>Foreign Exchange Earning (Rupee Croses)</th>\n      <th>Foreign Tourists Arrival</th>\n    </tr>\n  </thead>\n  <tbody>\n    <tr>\n      <th>43</th>\n      <td>28697</td>\n      <td>3583.72093</td>\n      <td>6207.000000</td>\n      <td>4798</td>\n      <td>2177.0</td>\n      <td>13290.0</td>\n      <td>4995.00000</td>\n      <td>5073.000000</td>\n      <td>3222.0</td>\n      <td>37350</td>\n      <td>2408140</td>\n    </tr>\n    <tr>\n      <th>44</th>\n      <td>29378</td>\n      <td>4090.00000</td>\n      <td>6377.000000</td>\n      <td>4953</td>\n      <td>2194.0</td>\n      <td>13758.0</td>\n      <td>5251.00000</td>\n      <td>3684.113636</td>\n      <td>3262.0</td>\n      <td>40317</td>\n      <td>2500453</td>\n    </tr>\n    <tr>\n      <th>45</th>\n      <td>29841</td>\n      <td>4202.00000</td>\n      <td>6476.000000</td>\n      <td>5003</td>\n      <td>2224.0</td>\n      <td>15178.0</td>\n      <td>5220.00000</td>\n      <td>6592.000000</td>\n      <td>3366.0</td>\n      <td>72432</td>\n      <td>1664034</td>\n    </tr>\n    <tr>\n      <th>46</th>\n      <td>30285</td>\n      <td>4266.00000</td>\n      <td>4498.222222</td>\n      <td>5069</td>\n      <td>2218.0</td>\n      <td>16017.0</td>\n      <td>5253.00000</td>\n      <td>7272.000000</td>\n      <td>3492.0</td>\n      <td>38480</td>\n      <td>1989797</td>\n    </tr>\n    <tr>\n      <th>47</th>\n      <td>30706</td>\n      <td>4333.00000</td>\n      <td>6739.000000</td>\n      <td>5171</td>\n      <td>2229.0</td>\n      <td>14180.0</td>\n      <td>3444.52381</td>\n      <td>5217.000000</td>\n      <td>3592.0</td>\n      <td>42917</td>\n      <td>2641323</td>\n    </tr>\n  </tbody>\n</table>\n</div>",
            "text/plain": "    GDP (Rupee Billions)  Agriculture, Forest, Fishing     Industry  \\\n43                 28697                    3583.72093  6207.000000   \n44                 29378                    4090.00000  6377.000000   \n45                 29841                    4202.00000  6476.000000   \n46                 30285                    4266.00000  4498.222222   \n47                 30706                    4333.00000  6739.000000   \n\n    Manufactur  Construction  Services  Distribution Trade  \\\n43        4798        2177.0   13290.0          4995.00000   \n44        4953        2194.0   13758.0          5251.00000   \n45        5003        2224.0   15178.0          5220.00000   \n46        5069        2218.0   16017.0          5253.00000   \n47        5171        2229.0   14180.0          3444.52381   \n\n    Real Estate Activities  Public Admin  \\\n43             5073.000000        3222.0   \n44             3684.113636        3262.0   \n45             6592.000000        3366.0   \n46             7272.000000        3492.0   \n47             5217.000000        3592.0   \n\n    Foreign Exchange Earning (Rupee Croses)  Foreign Tourists Arrival  \n43                                    37350                   2408140  \n44                                    40317                   2500453  \n45                                    72432                   1664034  \n46                                    38480                   1989797  \n47                                    42917                   2641323  "
          },
          "metadata": {}
        }
      ]
    },
    {
      "metadata": {
        "trusted": true
      },
      "cell_type": "code",
      "source": "#normalization\nfrom sklearn.preprocessing import normalize\nxnorm=normalize(x,norm='l2') #default norm l2, other are l1 and max\nxnorm=pd.DataFrame(xnorm)\nxnorm.tail()",
      "execution_count": 11,
      "outputs": [
        {
          "output_type": "execute_result",
          "execution_count": 11,
          "data": {
            "text/html": "<div>\n<style scoped>\n    .dataframe tbody tr th:only-of-type {\n        vertical-align: middle;\n    }\n\n    .dataframe tbody tr th {\n        vertical-align: top;\n    }\n\n    .dataframe thead th {\n        text-align: right;\n    }\n</style>\n<table border=\"1\" class=\"dataframe\">\n  <thead>\n    <tr style=\"text-align: right;\">\n      <th></th>\n      <th>0</th>\n      <th>1</th>\n      <th>2</th>\n      <th>3</th>\n      <th>4</th>\n      <th>5</th>\n      <th>6</th>\n      <th>7</th>\n      <th>8</th>\n      <th>9</th>\n      <th>10</th>\n    </tr>\n  </thead>\n  <tbody>\n    <tr>\n      <th>43</th>\n      <td>0.011914</td>\n      <td>0.001488</td>\n      <td>0.002577</td>\n      <td>0.001992</td>\n      <td>0.000904</td>\n      <td>0.005518</td>\n      <td>0.002074</td>\n      <td>0.002106</td>\n      <td>0.001338</td>\n      <td>0.015507</td>\n      <td>0.999781</td>\n    </tr>\n    <tr>\n      <th>44</th>\n      <td>0.011746</td>\n      <td>0.001635</td>\n      <td>0.002550</td>\n      <td>0.001980</td>\n      <td>0.000877</td>\n      <td>0.005501</td>\n      <td>0.002100</td>\n      <td>0.001473</td>\n      <td>0.001304</td>\n      <td>0.016120</td>\n      <td>0.999775</td>\n    </tr>\n    <tr>\n      <th>45</th>\n      <td>0.017912</td>\n      <td>0.002522</td>\n      <td>0.003887</td>\n      <td>0.003003</td>\n      <td>0.001335</td>\n      <td>0.009110</td>\n      <td>0.003133</td>\n      <td>0.003957</td>\n      <td>0.002020</td>\n      <td>0.043477</td>\n      <td>0.998821</td>\n    </tr>\n    <tr>\n      <th>46</th>\n      <td>0.015215</td>\n      <td>0.002143</td>\n      <td>0.002260</td>\n      <td>0.002547</td>\n      <td>0.001114</td>\n      <td>0.008047</td>\n      <td>0.002639</td>\n      <td>0.003653</td>\n      <td>0.001754</td>\n      <td>0.019332</td>\n      <td>0.999645</td>\n    </tr>\n    <tr>\n      <th>47</th>\n      <td>0.011623</td>\n      <td>0.001640</td>\n      <td>0.002551</td>\n      <td>0.001957</td>\n      <td>0.000844</td>\n      <td>0.005367</td>\n      <td>0.001304</td>\n      <td>0.001975</td>\n      <td>0.001360</td>\n      <td>0.016245</td>\n      <td>0.999775</td>\n    </tr>\n  </tbody>\n</table>\n</div>",
            "text/plain": "          0         1         2         3         4         5         6   \\\n43  0.011914  0.001488  0.002577  0.001992  0.000904  0.005518  0.002074   \n44  0.011746  0.001635  0.002550  0.001980  0.000877  0.005501  0.002100   \n45  0.017912  0.002522  0.003887  0.003003  0.001335  0.009110  0.003133   \n46  0.015215  0.002143  0.002260  0.002547  0.001114  0.008047  0.002639   \n47  0.011623  0.001640  0.002551  0.001957  0.000844  0.005367  0.001304   \n\n          7         8         9         10  \n43  0.002106  0.001338  0.015507  0.999781  \n44  0.001473  0.001304  0.016120  0.999775  \n45  0.003957  0.002020  0.043477  0.998821  \n46  0.003653  0.001754  0.019332  0.999645  \n47  0.001975  0.001360  0.016245  0.999775  "
          },
          "metadata": {}
        }
      ]
    },
    {
      "metadata": {
        "trusted": true
      },
      "cell_type": "code",
      "source": "#missing value & transformasi\nxnorm.to_csv('qfta_xnorm.csv')",
      "execution_count": 12,
      "outputs": []
    },
    {
      "metadata": {
        "trusted": true
      },
      "cell_type": "code",
      "source": "y=qfta1.iloc[0:50,2:13]\ny.tail()",
      "execution_count": 13,
      "outputs": [
        {
          "output_type": "execute_result",
          "execution_count": 13,
          "data": {
            "text/html": "<div>\n<style scoped>\n    .dataframe tbody tr th:only-of-type {\n        vertical-align: middle;\n    }\n\n    .dataframe tbody tr th {\n        vertical-align: top;\n    }\n\n    .dataframe thead th {\n        text-align: right;\n    }\n</style>\n<table border=\"1\" class=\"dataframe\">\n  <thead>\n    <tr style=\"text-align: right;\">\n      <th></th>\n      <th>GDP (Rupee Billions)</th>\n      <th>Agriculture, Forest, Fishing</th>\n      <th>Industry</th>\n      <th>Manufactur</th>\n      <th>Construction</th>\n      <th>Services</th>\n      <th>Distribution Trade</th>\n      <th>Real Estate Activities</th>\n      <th>Public Admin</th>\n      <th>Foreign Exchange Earning (Rupee Croses)</th>\n      <th>Foreign Tourists Arrival</th>\n    </tr>\n  </thead>\n  <tbody>\n    <tr>\n      <th>42</th>\n      <td>28182</td>\n      <td>4035.00000</td>\n      <td>6058.000000</td>\n      <td>4687</td>\n      <td>2133.0</td>\n      <td>14768.0</td>\n      <td>4881.00000</td>\n      <td>6717.000000</td>\n      <td>3170.0</td>\n      <td>33808</td>\n      <td>1773996</td>\n    </tr>\n    <tr>\n      <th>43</th>\n      <td>28697</td>\n      <td>3583.72093</td>\n      <td>6207.000000</td>\n      <td>4798</td>\n      <td>2177.0</td>\n      <td>13290.0</td>\n      <td>4995.00000</td>\n      <td>5073.000000</td>\n      <td>3222.0</td>\n      <td>37350</td>\n      <td>2408140</td>\n    </tr>\n    <tr>\n      <th>44</th>\n      <td>29378</td>\n      <td>4090.00000</td>\n      <td>6377.000000</td>\n      <td>4953</td>\n      <td>2194.0</td>\n      <td>13758.0</td>\n      <td>5251.00000</td>\n      <td>3684.113636</td>\n      <td>3262.0</td>\n      <td>40317</td>\n      <td>2500453</td>\n    </tr>\n    <tr>\n      <th>46</th>\n      <td>30285</td>\n      <td>4266.00000</td>\n      <td>4498.222222</td>\n      <td>5069</td>\n      <td>2218.0</td>\n      <td>16017.0</td>\n      <td>5253.00000</td>\n      <td>7272.000000</td>\n      <td>3492.0</td>\n      <td>38480</td>\n      <td>1989797</td>\n    </tr>\n    <tr>\n      <th>47</th>\n      <td>30706</td>\n      <td>4333.00000</td>\n      <td>6739.000000</td>\n      <td>5171</td>\n      <td>2229.0</td>\n      <td>14180.0</td>\n      <td>3444.52381</td>\n      <td>5217.000000</td>\n      <td>3592.0</td>\n      <td>42917</td>\n      <td>2641323</td>\n    </tr>\n  </tbody>\n</table>\n</div>",
            "text/plain": "    GDP (Rupee Billions)  Agriculture, Forest, Fishing     Industry  \\\n42                 28182                    4035.00000  6058.000000   \n43                 28697                    3583.72093  6207.000000   \n44                 29378                    4090.00000  6377.000000   \n46                 30285                    4266.00000  4498.222222   \n47                 30706                    4333.00000  6739.000000   \n\n    Manufactur  Construction  Services  Distribution Trade  \\\n42        4687        2133.0   14768.0          4881.00000   \n43        4798        2177.0   13290.0          4995.00000   \n44        4953        2194.0   13758.0          5251.00000   \n46        5069        2218.0   16017.0          5253.00000   \n47        5171        2229.0   14180.0          3444.52381   \n\n    Real Estate Activities  Public Admin  \\\n42             6717.000000        3170.0   \n43             5073.000000        3222.0   \n44             3684.113636        3262.0   \n46             7272.000000        3492.0   \n47             5217.000000        3592.0   \n\n    Foreign Exchange Earning (Rupee Croses)  Foreign Tourists Arrival  \n42                                    33808                   1773996  \n43                                    37350                   2408140  \n44                                    40317                   2500453  \n46                                    38480                   1989797  \n47                                    42917                   2641323  "
          },
          "metadata": {}
        }
      ]
    },
    {
      "metadata": {
        "trusted": true
      },
      "cell_type": "code",
      "source": "#normalization\nfrom sklearn.preprocessing import normalize\nynorm=normalize(y,norm='l2') #default norm l2, other are l1 and max\nynorm=pd.DataFrame(ynorm)\nynorm.tail()",
      "execution_count": 14,
      "outputs": [
        {
          "output_type": "execute_result",
          "execution_count": 14,
          "data": {
            "text/html": "<div>\n<style scoped>\n    .dataframe tbody tr th:only-of-type {\n        vertical-align: middle;\n    }\n\n    .dataframe tbody tr th {\n        vertical-align: top;\n    }\n\n    .dataframe thead th {\n        text-align: right;\n    }\n</style>\n<table border=\"1\" class=\"dataframe\">\n  <thead>\n    <tr style=\"text-align: right;\">\n      <th></th>\n      <th>0</th>\n      <th>1</th>\n      <th>2</th>\n      <th>3</th>\n      <th>4</th>\n      <th>5</th>\n      <th>6</th>\n      <th>7</th>\n      <th>8</th>\n      <th>9</th>\n      <th>10</th>\n    </tr>\n  </thead>\n  <tbody>\n    <tr>\n      <th>42</th>\n      <td>0.015880</td>\n      <td>0.002274</td>\n      <td>0.003414</td>\n      <td>0.002641</td>\n      <td>0.001202</td>\n      <td>0.008322</td>\n      <td>0.002750</td>\n      <td>0.003785</td>\n      <td>0.001786</td>\n      <td>0.019051</td>\n      <td>0.999633</td>\n    </tr>\n    <tr>\n      <th>43</th>\n      <td>0.011914</td>\n      <td>0.001488</td>\n      <td>0.002577</td>\n      <td>0.001992</td>\n      <td>0.000904</td>\n      <td>0.005518</td>\n      <td>0.002074</td>\n      <td>0.002106</td>\n      <td>0.001338</td>\n      <td>0.015507</td>\n      <td>0.999781</td>\n    </tr>\n    <tr>\n      <th>44</th>\n      <td>0.011746</td>\n      <td>0.001635</td>\n      <td>0.002550</td>\n      <td>0.001980</td>\n      <td>0.000877</td>\n      <td>0.005501</td>\n      <td>0.002100</td>\n      <td>0.001473</td>\n      <td>0.001304</td>\n      <td>0.016120</td>\n      <td>0.999775</td>\n    </tr>\n    <tr>\n      <th>45</th>\n      <td>0.015215</td>\n      <td>0.002143</td>\n      <td>0.002260</td>\n      <td>0.002547</td>\n      <td>0.001114</td>\n      <td>0.008047</td>\n      <td>0.002639</td>\n      <td>0.003653</td>\n      <td>0.001754</td>\n      <td>0.019332</td>\n      <td>0.999645</td>\n    </tr>\n    <tr>\n      <th>46</th>\n      <td>0.011623</td>\n      <td>0.001640</td>\n      <td>0.002551</td>\n      <td>0.001957</td>\n      <td>0.000844</td>\n      <td>0.005367</td>\n      <td>0.001304</td>\n      <td>0.001975</td>\n      <td>0.001360</td>\n      <td>0.016245</td>\n      <td>0.999775</td>\n    </tr>\n  </tbody>\n</table>\n</div>",
            "text/plain": "          0         1         2         3         4         5         6   \\\n42  0.015880  0.002274  0.003414  0.002641  0.001202  0.008322  0.002750   \n43  0.011914  0.001488  0.002577  0.001992  0.000904  0.005518  0.002074   \n44  0.011746  0.001635  0.002550  0.001980  0.000877  0.005501  0.002100   \n45  0.015215  0.002143  0.002260  0.002547  0.001114  0.008047  0.002639   \n46  0.011623  0.001640  0.002551  0.001957  0.000844  0.005367  0.001304   \n\n          7         8         9         10  \n42  0.003785  0.001786  0.019051  0.999633  \n43  0.002106  0.001338  0.015507  0.999781  \n44  0.001473  0.001304  0.016120  0.999775  \n45  0.003653  0.001754  0.019332  0.999645  \n46  0.001975  0.001360  0.016245  0.999775  "
          },
          "metadata": {}
        }
      ]
    },
    {
      "metadata": {
        "trusted": true
      },
      "cell_type": "code",
      "source": "#missing value,outlier & transformasi\nynorm.to_csv('qfta_ynorm.csv')",
      "execution_count": 15,
      "outputs": []
    },
    {
      "metadata": {
        "trusted": true
      },
      "cell_type": "code",
      "source": "",
      "execution_count": null,
      "outputs": []
    }
  ],
  "metadata": {
    "kernelspec": {
      "name": "python36",
      "display_name": "Python 3.6",
      "language": "python"
    },
    "language_info": {
      "mimetype": "text/x-python",
      "nbconvert_exporter": "python",
      "name": "python",
      "pygments_lexer": "ipython3",
      "version": "3.6.6",
      "file_extension": ".py",
      "codemirror_mode": {
        "version": 3,
        "name": "ipython"
      }
    }
  },
  "nbformat": 4,
  "nbformat_minor": 2
}