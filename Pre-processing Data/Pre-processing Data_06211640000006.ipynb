{
  "cells": [
    {
      "metadata": {
        "collapsed": true
      },
      "cell_type": "markdown",
      "source": "# Tugas 2"
    },
    {
      "metadata": {},
      "cell_type": "markdown",
      "source": "## Preprocessing Data"
    },
    {
      "metadata": {
        "trusted": true
      },
      "cell_type": "code",
      "source": "import numpy as np\nimport pandas as pd",
      "execution_count": 22,
      "outputs": []
    },
    {
      "metadata": {
        "trusted": true,
        "scrolled": false
      },
      "cell_type": "code",
      "source": "pr=pd.read_csv('prepos.csv')\npr.head()",
      "execution_count": 33,
      "outputs": [
        {
          "output_type": "execute_result",
          "execution_count": 33,
          "data": {
            "text/html": "<div>\n<style scoped>\n    .dataframe tbody tr th:only-of-type {\n        vertical-align: middle;\n    }\n\n    .dataframe tbody tr th {\n        vertical-align: top;\n    }\n\n    .dataframe thead th {\n        text-align: right;\n    }\n</style>\n<table border=\"1\" class=\"dataframe\">\n  <thead>\n    <tr style=\"text-align: right;\">\n      <th></th>\n      <th>Ranking</th>\n      <th>Author ID</th>\n      <th>fullname</th>\n      <th>NIDN</th>\n      <th>sinta_score</th>\n      <th>scopus_citation</th>\n      <th>sinta_score_3_year</th>\n      <th>scopus_hindex</th>\n      <th>google_citations</th>\n      <th>google_hindex</th>\n      <th>afiliasi_name</th>\n    </tr>\n  </thead>\n  <tbody>\n    <tr>\n      <th>0</th>\n      <td>1</td>\n      <td>5984431</td>\n      <td>TATAG YULI EKO SISWONO</td>\n      <td>8077106</td>\n      <td>20.52</td>\n      <td>42.0</td>\n      <td>10.03</td>\n      <td>4.0</td>\n      <td>1537.0</td>\n      <td>18.0</td>\n      <td>Universitas Negeri Surabaya</td>\n    </tr>\n    <tr>\n      <th>1</th>\n      <td>2</td>\n      <td>5998595</td>\n      <td>ZULKARDI</td>\n      <td>2046104</td>\n      <td>18.37</td>\n      <td>66.0</td>\n      <td>7.03</td>\n      <td>5.0</td>\n      <td>656.0</td>\n      <td>15.0</td>\n      <td>Universitas Sriwijaya</td>\n    </tr>\n    <tr>\n      <th>2</th>\n      <td>3</td>\n      <td>5994183</td>\n      <td>DIDI SURYADI</td>\n      <td>1025803</td>\n      <td>17.54</td>\n      <td>10.0</td>\n      <td>9.01</td>\n      <td>2.0</td>\n      <td>688.0</td>\n      <td>14.0</td>\n      <td>Universitas Pendidikan Indonesia</td>\n    </tr>\n    <tr>\n      <th>3</th>\n      <td>4</td>\n      <td>260221</td>\n      <td>ABDUL RAHMAN</td>\n      <td>17046203</td>\n      <td>17.38</td>\n      <td>256.0</td>\n      <td>13.65</td>\n      <td>10.0</td>\n      <td>257.0</td>\n      <td>10.0</td>\n      <td>Universitas Negeri Makassar</td>\n    </tr>\n    <tr>\n      <th>4</th>\n      <td>5</td>\n      <td>5978419</td>\n      <td>ARIYADI WIJAYA</td>\n      <td>16078201</td>\n      <td>14.32</td>\n      <td>56.0</td>\n      <td>2.44</td>\n      <td>3.0</td>\n      <td>883.0</td>\n      <td>9.0</td>\n      <td>Universitas Negeri Yogyakarta</td>\n    </tr>\n  </tbody>\n</table>\n</div>",
            "text/plain": "   Ranking  Author ID                fullname      NIDN  sinta_score  \\\n0        1    5984431  TATAG YULI EKO SISWONO   8077106        20.52   \n1        2    5998595                ZULKARDI   2046104        18.37   \n2        3    5994183            DIDI SURYADI   1025803        17.54   \n3        4     260221            ABDUL RAHMAN  17046203        17.38   \n4        5    5978419          ARIYADI WIJAYA  16078201        14.32   \n\n   scopus_citation  sinta_score_3_year  scopus_hindex  google_citations  \\\n0             42.0               10.03            4.0            1537.0   \n1             66.0                7.03            5.0             656.0   \n2             10.0                9.01            2.0             688.0   \n3            256.0               13.65           10.0             257.0   \n4             56.0                2.44            3.0             883.0   \n\n   google_hindex                     afiliasi_name  \n0           18.0       Universitas Negeri Surabaya  \n1           15.0             Universitas Sriwijaya  \n2           14.0  Universitas Pendidikan Indonesia  \n3           10.0       Universitas Negeri Makassar  \n4            9.0     Universitas Negeri Yogyakarta  "
          },
          "metadata": {}
        }
      ]
    },
    {
      "metadata": {
        "trusted": true
      },
      "cell_type": "code",
      "source": "pr.tail()",
      "execution_count": 34,
      "outputs": [
        {
          "output_type": "execute_result",
          "execution_count": 34,
          "data": {
            "text/html": "<div>\n<style scoped>\n    .dataframe tbody tr th:only-of-type {\n        vertical-align: middle;\n    }\n\n    .dataframe tbody tr th {\n        vertical-align: top;\n    }\n\n    .dataframe thead th {\n        text-align: right;\n    }\n</style>\n<table border=\"1\" class=\"dataframe\">\n  <thead>\n    <tr style=\"text-align: right;\">\n      <th></th>\n      <th>Ranking</th>\n      <th>Author ID</th>\n      <th>fullname</th>\n      <th>NIDN</th>\n      <th>sinta_score</th>\n      <th>scopus_citation</th>\n      <th>sinta_score_3_year</th>\n      <th>scopus_hindex</th>\n      <th>google_citations</th>\n      <th>google_hindex</th>\n      <th>afiliasi_name</th>\n    </tr>\n  </thead>\n  <tbody>\n    <tr>\n      <th>2092</th>\n      <td>2093</td>\n      <td>6171719</td>\n      <td>ZUHROTUN NAZIHAH</td>\n      <td>730068806</td>\n      <td>NaN</td>\n      <td>NaN</td>\n      <td>NaN</td>\n      <td>NaN</td>\n      <td>NaN</td>\n      <td>NaN</td>\n      <td>STKIP PGRI Pasuruan</td>\n    </tr>\n    <tr>\n      <th>2093</th>\n      <td>2094</td>\n      <td>6099967</td>\n      <td>ZULFA RAZI</td>\n      <td>111048801</td>\n      <td>NaN</td>\n      <td>NaN</td>\n      <td>NaN</td>\n      <td>NaN</td>\n      <td>NaN</td>\n      <td>NaN</td>\n      <td>Universitas Jabal Ghafur</td>\n    </tr>\n    <tr>\n      <th>2094</th>\n      <td>2095</td>\n      <td>6645445</td>\n      <td>ZULFAHMI</td>\n      <td>1311108901</td>\n      <td>NaN</td>\n      <td>NaN</td>\n      <td>NaN</td>\n      <td>NaN</td>\n      <td>NaN</td>\n      <td>NaN</td>\n      <td>STKIP Bumi Persada Lhokseumawe</td>\n    </tr>\n    <tr>\n      <th>2095</th>\n      <td>2096</td>\n      <td>6000508</td>\n      <td>ZULHENDRI</td>\n      <td>1010108004</td>\n      <td>NaN</td>\n      <td>NaN</td>\n      <td>NaN</td>\n      <td>NaN</td>\n      <td>NaN</td>\n      <td>NaN</td>\n      <td>Universitas Pahlawan Tuanku Tambusai</td>\n    </tr>\n    <tr>\n      <th>2096</th>\n      <td>2097</td>\n      <td>6673498</td>\n      <td>ZURAIDAH</td>\n      <td>2012047204</td>\n      <td>NaN</td>\n      <td>NaN</td>\n      <td>NaN</td>\n      <td>NaN</td>\n      <td>NaN</td>\n      <td>NaN</td>\n      <td>Institut Agama Islam Negeri Kediri</td>\n    </tr>\n  </tbody>\n</table>\n</div>",
            "text/plain": "      Ranking  Author ID          fullname        NIDN  sinta_score  \\\n2092     2093    6171719  ZUHROTUN NAZIHAH   730068806          NaN   \n2093     2094    6099967        ZULFA RAZI   111048801          NaN   \n2094     2095    6645445          ZULFAHMI  1311108901          NaN   \n2095     2096    6000508         ZULHENDRI  1010108004          NaN   \n2096     2097    6673498          ZURAIDAH  2012047204          NaN   \n\n      scopus_citation  sinta_score_3_year  scopus_hindex  google_citations  \\\n2092              NaN                 NaN            NaN               NaN   \n2093              NaN                 NaN            NaN               NaN   \n2094              NaN                 NaN            NaN               NaN   \n2095              NaN                 NaN            NaN               NaN   \n2096              NaN                 NaN            NaN               NaN   \n\n      google_hindex                         afiliasi_name  \n2092            NaN                   STKIP PGRI Pasuruan  \n2093            NaN              Universitas Jabal Ghafur  \n2094            NaN        STKIP Bumi Persada Lhokseumawe  \n2095            NaN  Universitas Pahlawan Tuanku Tambusai  \n2096            NaN    Institut Agama Islam Negeri Kediri  "
          },
          "metadata": {}
        }
      ]
    },
    {
      "metadata": {
        "trusted": true
      },
      "cell_type": "code",
      "source": "pr.describe()",
      "execution_count": 24,
      "outputs": [
        {
          "output_type": "execute_result",
          "execution_count": 24,
          "data": {
            "text/html": "<div>\n<style scoped>\n    .dataframe tbody tr th:only-of-type {\n        vertical-align: middle;\n    }\n\n    .dataframe tbody tr th {\n        vertical-align: top;\n    }\n\n    .dataframe thead th {\n        text-align: right;\n    }\n</style>\n<table border=\"1\" class=\"dataframe\">\n  <thead>\n    <tr style=\"text-align: right;\">\n      <th></th>\n      <th>Ranking</th>\n      <th>Author ID</th>\n      <th>sinta_score</th>\n      <th>scopus_citation</th>\n      <th>sinta_score_3_year</th>\n      <th>scopus_hindex</th>\n      <th>google_citations</th>\n      <th>google_hindex</th>\n    </tr>\n  </thead>\n  <tbody>\n    <tr>\n      <th>count</th>\n      <td>2097.000000</td>\n      <td>2.097000e+03</td>\n      <td>1393.000000</td>\n      <td>171.000000</td>\n      <td>932.000000</td>\n      <td>171.000000</td>\n      <td>1423.000000</td>\n      <td>1423.000000</td>\n    </tr>\n    <tr>\n      <th>mean</th>\n      <td>1049.000000</td>\n      <td>5.883334e+06</td>\n      <td>0.656001</td>\n      <td>13.228070</td>\n      <td>0.487049</td>\n      <td>1.543860</td>\n      <td>39.640197</td>\n      <td>2.085032</td>\n    </tr>\n    <tr>\n      <th>std</th>\n      <td>605.496078</td>\n      <td>1.231049e+06</td>\n      <td>1.690936</td>\n      <td>27.471708</td>\n      <td>1.148716</td>\n      <td>1.069417</td>\n      <td>294.762141</td>\n      <td>1.837014</td>\n    </tr>\n    <tr>\n      <th>min</th>\n      <td>1.000000</td>\n      <td>2.340000e+02</td>\n      <td>0.010000</td>\n      <td>1.000000</td>\n      <td>0.010000</td>\n      <td>1.000000</td>\n      <td>1.000000</td>\n      <td>1.000000</td>\n    </tr>\n    <tr>\n      <th>25%</th>\n      <td>525.000000</td>\n      <td>5.997119e+06</td>\n      <td>0.040000</td>\n      <td>1.000000</td>\n      <td>0.020000</td>\n      <td>1.000000</td>\n      <td>2.000000</td>\n      <td>1.000000</td>\n    </tr>\n    <tr>\n      <th>50%</th>\n      <td>1049.000000</td>\n      <td>6.033488e+06</td>\n      <td>0.140000</td>\n      <td>4.000000</td>\n      <td>0.070000</td>\n      <td>1.000000</td>\n      <td>8.000000</td>\n      <td>1.000000</td>\n    </tr>\n    <tr>\n      <th>75%</th>\n      <td>1573.000000</td>\n      <td>6.156014e+06</td>\n      <td>0.460000</td>\n      <td>13.000000</td>\n      <td>0.430000</td>\n      <td>2.000000</td>\n      <td>21.000000</td>\n      <td>2.000000</td>\n    </tr>\n    <tr>\n      <th>max</th>\n      <td>2097.000000</td>\n      <td>6.678847e+06</td>\n      <td>20.520000</td>\n      <td>256.000000</td>\n      <td>13.650000</td>\n      <td>10.000000</td>\n      <td>10312.000000</td>\n      <td>22.000000</td>\n    </tr>\n  </tbody>\n</table>\n</div>",
            "text/plain": "           Ranking     Author ID  sinta_score  scopus_citation  \\\ncount  2097.000000  2.097000e+03  1393.000000       171.000000   \nmean   1049.000000  5.883334e+06     0.656001        13.228070   \nstd     605.496078  1.231049e+06     1.690936        27.471708   \nmin       1.000000  2.340000e+02     0.010000         1.000000   \n25%     525.000000  5.997119e+06     0.040000         1.000000   \n50%    1049.000000  6.033488e+06     0.140000         4.000000   \n75%    1573.000000  6.156014e+06     0.460000        13.000000   \nmax    2097.000000  6.678847e+06    20.520000       256.000000   \n\n       sinta_score_3_year  scopus_hindex  google_citations  google_hindex  \ncount          932.000000     171.000000       1423.000000    1423.000000  \nmean             0.487049       1.543860         39.640197       2.085032  \nstd              1.148716       1.069417        294.762141       1.837014  \nmin              0.010000       1.000000          1.000000       1.000000  \n25%              0.020000       1.000000          2.000000       1.000000  \n50%              0.070000       1.000000          8.000000       1.000000  \n75%              0.430000       2.000000         21.000000       2.000000  \nmax             13.650000      10.000000      10312.000000      22.000000  "
          },
          "metadata": {}
        }
      ]
    },
    {
      "metadata": {
        "trusted": true
      },
      "cell_type": "code",
      "source": "np.sum(pr.isnull())",
      "execution_count": 25,
      "outputs": [
        {
          "output_type": "execute_result",
          "execution_count": 25,
          "data": {
            "text/plain": "Ranking                  0\nAuthor ID                0\nfullname                 0\nNIDN                     0\nsinta_score            704\nscopus_citation       1926\nsinta_score_3_year    1165\nscopus_hindex         1926\ngoogle_citations       674\ngoogle_hindex          674\nafiliasi_name            0\ndtype: int64"
          },
          "metadata": {}
        }
      ]
    },
    {
      "metadata": {
        "trusted": true
      },
      "cell_type": "code",
      "source": "pr['sinta_score']=pr['sinta_score'].fillna(pr['sinta_score'].median())\npr['scopus_citation']=pr['scopus_citation'].fillna(pr['scopus_citation'].median())\npr['sinta_score_3_year']=pr['sinta_score_3_year'].fillna(pr['sinta_score_3_year'].median())\npr['scopus_hindex']=pr['scopus_hindex'].fillna(pr['scopus_hindex'].median())\npr['google_citations']=pr['google_citations'].fillna(pr['google_citations'].median())\npr['google_hindex']=pr['google_hindex'].fillna(pr['google_hindex'].median())\nnp.sum(pr.isnull())",
      "execution_count": 28,
      "outputs": [
        {
          "output_type": "execute_result",
          "execution_count": 28,
          "data": {
            "text/plain": "Ranking               0\nAuthor ID             0\nfullname              0\nNIDN                  0\nsinta_score           0\nscopus_citation       0\nsinta_score_3_year    0\nscopus_hindex         0\ngoogle_citations      0\ngoogle_hindex         0\nafiliasi_name         0\ndtype: int64"
          },
          "metadata": {}
        }
      ]
    },
    {
      "metadata": {
        "trusted": true
      },
      "cell_type": "code",
      "source": "from scipy import stats\nz=np.abs(stats.zscore(pr._get_numeric_data()))\nprint(z)\npr=pr[(z<3).all(axis=1)]\nprint(pr.shape)",
      "execution_count": 29,
      "outputs": [
        {
          "output_type": "stream",
          "text": "[[ 1.73122504  0.0821424  14.32190565 ...  8.72079363  6.19926541\n  10.19444033]\n [ 1.72957311  0.09365077 12.7851614  ... 11.67134287  2.57641528\n   8.31397635]\n [ 1.72792117  0.09006598 12.19190664 ...  2.81969513  2.70800575\n   7.68715502]\n ...\n [ 1.72792117  0.61922214  0.24500037 ...  0.13085412  0.08829175\n   0.46152224]\n [ 1.72957311  0.0952051   0.24500037 ...  0.13085412  0.08829175\n   0.46152224]\n [ 1.73122504  0.64201545  0.24500037 ...  0.13085412  0.08829175\n   0.46152224]]\n(1938, 11)\n",
          "name": "stdout"
        }
      ]
    },
    {
      "metadata": {
        "trusted": true
      },
      "cell_type": "code",
      "source": "",
      "execution_count": null,
      "outputs": []
    }
  ],
  "metadata": {
    "kernelspec": {
      "name": "python36",
      "display_name": "Python 3.6",
      "language": "python"
    },
    "language_info": {
      "mimetype": "text/x-python",
      "nbconvert_exporter": "python",
      "name": "python",
      "pygments_lexer": "ipython3",
      "version": "3.6.6",
      "file_extension": ".py",
      "codemirror_mode": {
        "version": 3,
        "name": "ipython"
      }
    }
  },
  "nbformat": 4,
  "nbformat_minor": 2
}