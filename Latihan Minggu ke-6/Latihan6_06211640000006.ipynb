{
  "cells": [
    {
      "metadata": {
        "collapsed": true
      },
      "cell_type": "markdown",
      "source": "\n# Kuis"
    },
    {
      "metadata": {
        "trusted": true
      },
      "cell_type": "code",
      "source": "import numpy as np\nimport pandas as pd",
      "execution_count": 66,
      "outputs": []
    },
    {
      "metadata": {
        "trusted": true
      },
      "cell_type": "code",
      "source": "data=pd.read_csv('weatherAUS.csv')\ndata['RainTomorrow'].replace({'No':0,'Yes':1},inplace=True)\ndata.head()",
      "execution_count": 89,
      "outputs": [
        {
          "output_type": "execute_result",
          "execution_count": 89,
          "data": {
            "text/html": "<div>\n<style scoped>\n    .dataframe tbody tr th:only-of-type {\n        vertical-align: middle;\n    }\n\n    .dataframe tbody tr th {\n        vertical-align: top;\n    }\n\n    .dataframe thead th {\n        text-align: right;\n    }\n</style>\n<table border=\"1\" class=\"dataframe\">\n  <thead>\n    <tr style=\"text-align: right;\">\n      <th></th>\n      <th>MinTemp</th>\n      <th>MaxTemp</th>\n      <th>Rainfall</th>\n      <th>Evaporation</th>\n      <th>Sunshine</th>\n      <th>WindSpeed9am</th>\n      <th>WindSpeed3pm</th>\n      <th>Humidity9am</th>\n      <th>Humidity3pm</th>\n      <th>Pressure9am</th>\n      <th>Pressure3pm</th>\n      <th>Cloud9am</th>\n      <th>Cloud3pm</th>\n      <th>Temp9am</th>\n      <th>Temp3pm</th>\n      <th>RISK_MM</th>\n      <th>RainTomorrow</th>\n    </tr>\n  </thead>\n  <tbody>\n    <tr>\n      <th>0</th>\n      <td>13.4</td>\n      <td>22.9</td>\n      <td>0.6</td>\n      <td>NaN</td>\n      <td>NaN</td>\n      <td>20.0</td>\n      <td>24.0</td>\n      <td>71.0</td>\n      <td>22.0</td>\n      <td>1007.7</td>\n      <td>1007.1</td>\n      <td>8.0</td>\n      <td>NaN</td>\n      <td>16.9</td>\n      <td>21.8</td>\n      <td>0.0</td>\n      <td>0.0</td>\n    </tr>\n    <tr>\n      <th>1</th>\n      <td>7.4</td>\n      <td>25.1</td>\n      <td>0.0</td>\n      <td>NaN</td>\n      <td>NaN</td>\n      <td>4.0</td>\n      <td>22.0</td>\n      <td>44.0</td>\n      <td>25.0</td>\n      <td>1010.6</td>\n      <td>1007.8</td>\n      <td>NaN</td>\n      <td>NaN</td>\n      <td>17.2</td>\n      <td>24.3</td>\n      <td>0.0</td>\n      <td>0.0</td>\n    </tr>\n    <tr>\n      <th>2</th>\n      <td>12.9</td>\n      <td>25.7</td>\n      <td>0.0</td>\n      <td>NaN</td>\n      <td>NaN</td>\n      <td>19.0</td>\n      <td>26.0</td>\n      <td>38.0</td>\n      <td>30.0</td>\n      <td>1007.6</td>\n      <td>1008.7</td>\n      <td>NaN</td>\n      <td>2.0</td>\n      <td>21.0</td>\n      <td>23.2</td>\n      <td>0.0</td>\n      <td>0.0</td>\n    </tr>\n    <tr>\n      <th>3</th>\n      <td>9.2</td>\n      <td>28.0</td>\n      <td>0.0</td>\n      <td>NaN</td>\n      <td>NaN</td>\n      <td>11.0</td>\n      <td>9.0</td>\n      <td>45.0</td>\n      <td>16.0</td>\n      <td>1017.6</td>\n      <td>1012.8</td>\n      <td>NaN</td>\n      <td>NaN</td>\n      <td>18.1</td>\n      <td>26.5</td>\n      <td>1.0</td>\n      <td>0.0</td>\n    </tr>\n    <tr>\n      <th>4</th>\n      <td>17.5</td>\n      <td>32.3</td>\n      <td>1.0</td>\n      <td>NaN</td>\n      <td>NaN</td>\n      <td>7.0</td>\n      <td>20.0</td>\n      <td>82.0</td>\n      <td>33.0</td>\n      <td>1010.8</td>\n      <td>1006.0</td>\n      <td>7.0</td>\n      <td>8.0</td>\n      <td>17.8</td>\n      <td>29.7</td>\n      <td>0.2</td>\n      <td>0.0</td>\n    </tr>\n  </tbody>\n</table>\n</div>",
            "text/plain": "   MinTemp  MaxTemp  Rainfall  Evaporation  Sunshine  WindSpeed9am  \\\n0     13.4     22.9       0.6          NaN       NaN          20.0   \n1      7.4     25.1       0.0          NaN       NaN           4.0   \n2     12.9     25.7       0.0          NaN       NaN          19.0   \n3      9.2     28.0       0.0          NaN       NaN          11.0   \n4     17.5     32.3       1.0          NaN       NaN           7.0   \n\n   WindSpeed3pm  Humidity9am  Humidity3pm  Pressure9am  Pressure3pm  Cloud9am  \\\n0          24.0         71.0         22.0       1007.7       1007.1       8.0   \n1          22.0         44.0         25.0       1010.6       1007.8       NaN   \n2          26.0         38.0         30.0       1007.6       1008.7       NaN   \n3           9.0         45.0         16.0       1017.6       1012.8       NaN   \n4          20.0         82.0         33.0       1010.8       1006.0       7.0   \n\n   Cloud3pm  Temp9am  Temp3pm  RISK_MM  RainTomorrow  \n0       NaN     16.9     21.8      0.0           0.0  \n1       NaN     17.2     24.3      0.0           0.0  \n2       2.0     21.0     23.2      0.0           0.0  \n3       NaN     18.1     26.5      1.0           0.0  \n4       8.0     17.8     29.7      0.2           0.0  "
          },
          "metadata": {}
        }
      ]
    },
    {
      "metadata": {
        "trusted": true
      },
      "cell_type": "code",
      "source": "data.describe()",
      "execution_count": 90,
      "outputs": [
        {
          "output_type": "execute_result",
          "execution_count": 90,
          "data": {
            "text/html": "<div>\n<style scoped>\n    .dataframe tbody tr th:only-of-type {\n        vertical-align: middle;\n    }\n\n    .dataframe tbody tr th {\n        vertical-align: top;\n    }\n\n    .dataframe thead th {\n        text-align: right;\n    }\n</style>\n<table border=\"1\" class=\"dataframe\">\n  <thead>\n    <tr style=\"text-align: right;\">\n      <th></th>\n      <th>MinTemp</th>\n      <th>MaxTemp</th>\n      <th>Rainfall</th>\n      <th>Evaporation</th>\n      <th>Sunshine</th>\n      <th>WindSpeed9am</th>\n      <th>WindSpeed3pm</th>\n      <th>Humidity9am</th>\n      <th>Humidity3pm</th>\n      <th>Pressure9am</th>\n      <th>Pressure3pm</th>\n      <th>Cloud9am</th>\n      <th>Cloud3pm</th>\n      <th>Temp9am</th>\n      <th>Temp3pm</th>\n      <th>RISK_MM</th>\n      <th>RainTomorrow</th>\n    </tr>\n  </thead>\n  <tbody>\n    <tr>\n      <th>count</th>\n      <td>143975.000000</td>\n      <td>144199.000000</td>\n      <td>142199.000000</td>\n      <td>82670.000000</td>\n      <td>75625.000000</td>\n      <td>143693.000000</td>\n      <td>142398.000000</td>\n      <td>142806.000000</td>\n      <td>140953.000000</td>\n      <td>130395.00000</td>\n      <td>130432.000000</td>\n      <td>89572.000000</td>\n      <td>86102.000000</td>\n      <td>143693.000000</td>\n      <td>141851.00000</td>\n      <td>142193.000000</td>\n      <td>142193.000000</td>\n    </tr>\n    <tr>\n      <th>mean</th>\n      <td>12.194034</td>\n      <td>23.221348</td>\n      <td>2.360918</td>\n      <td>5.468232</td>\n      <td>7.611178</td>\n      <td>14.043426</td>\n      <td>18.662657</td>\n      <td>68.880831</td>\n      <td>51.539116</td>\n      <td>1017.64994</td>\n      <td>1015.255889</td>\n      <td>4.447461</td>\n      <td>4.509930</td>\n      <td>16.990631</td>\n      <td>21.68339</td>\n      <td>2.360682</td>\n      <td>0.224181</td>\n    </tr>\n    <tr>\n      <th>std</th>\n      <td>6.398495</td>\n      <td>7.119049</td>\n      <td>8.478060</td>\n      <td>4.193704</td>\n      <td>3.785483</td>\n      <td>8.915375</td>\n      <td>8.809800</td>\n      <td>19.029164</td>\n      <td>20.795902</td>\n      <td>7.10653</td>\n      <td>7.037414</td>\n      <td>2.887159</td>\n      <td>2.720357</td>\n      <td>6.488753</td>\n      <td>6.93665</td>\n      <td>8.477969</td>\n      <td>0.417043</td>\n    </tr>\n    <tr>\n      <th>min</th>\n      <td>-8.500000</td>\n      <td>-4.800000</td>\n      <td>0.000000</td>\n      <td>0.000000</td>\n      <td>0.000000</td>\n      <td>0.000000</td>\n      <td>0.000000</td>\n      <td>0.000000</td>\n      <td>0.000000</td>\n      <td>980.50000</td>\n      <td>977.100000</td>\n      <td>0.000000</td>\n      <td>0.000000</td>\n      <td>-7.200000</td>\n      <td>-5.40000</td>\n      <td>0.000000</td>\n      <td>0.000000</td>\n    </tr>\n    <tr>\n      <th>25%</th>\n      <td>7.600000</td>\n      <td>17.900000</td>\n      <td>0.000000</td>\n      <td>2.600000</td>\n      <td>4.800000</td>\n      <td>7.000000</td>\n      <td>13.000000</td>\n      <td>57.000000</td>\n      <td>37.000000</td>\n      <td>1012.90000</td>\n      <td>1010.400000</td>\n      <td>1.000000</td>\n      <td>2.000000</td>\n      <td>12.300000</td>\n      <td>16.60000</td>\n      <td>0.000000</td>\n      <td>0.000000</td>\n    </tr>\n    <tr>\n      <th>50%</th>\n      <td>12.000000</td>\n      <td>22.600000</td>\n      <td>0.000000</td>\n      <td>4.800000</td>\n      <td>8.400000</td>\n      <td>13.000000</td>\n      <td>19.000000</td>\n      <td>70.000000</td>\n      <td>52.000000</td>\n      <td>1017.60000</td>\n      <td>1015.200000</td>\n      <td>5.000000</td>\n      <td>5.000000</td>\n      <td>16.700000</td>\n      <td>21.10000</td>\n      <td>0.000000</td>\n      <td>0.000000</td>\n    </tr>\n    <tr>\n      <th>75%</th>\n      <td>16.900000</td>\n      <td>28.200000</td>\n      <td>0.800000</td>\n      <td>7.400000</td>\n      <td>10.600000</td>\n      <td>19.000000</td>\n      <td>24.000000</td>\n      <td>83.000000</td>\n      <td>66.000000</td>\n      <td>1022.40000</td>\n      <td>1020.000000</td>\n      <td>7.000000</td>\n      <td>7.000000</td>\n      <td>21.600000</td>\n      <td>26.40000</td>\n      <td>0.800000</td>\n      <td>0.000000</td>\n    </tr>\n    <tr>\n      <th>max</th>\n      <td>33.900000</td>\n      <td>48.100000</td>\n      <td>371.000000</td>\n      <td>145.000000</td>\n      <td>14.500000</td>\n      <td>130.000000</td>\n      <td>87.000000</td>\n      <td>100.000000</td>\n      <td>100.000000</td>\n      <td>1041.00000</td>\n      <td>1039.600000</td>\n      <td>9.000000</td>\n      <td>9.000000</td>\n      <td>40.200000</td>\n      <td>46.70000</td>\n      <td>371.000000</td>\n      <td>1.000000</td>\n    </tr>\n  </tbody>\n</table>\n</div>",
            "text/plain": "             MinTemp        MaxTemp       Rainfall   Evaporation  \\\ncount  143975.000000  144199.000000  142199.000000  82670.000000   \nmean       12.194034      23.221348       2.360918      5.468232   \nstd         6.398495       7.119049       8.478060      4.193704   \nmin        -8.500000      -4.800000       0.000000      0.000000   \n25%         7.600000      17.900000       0.000000      2.600000   \n50%        12.000000      22.600000       0.000000      4.800000   \n75%        16.900000      28.200000       0.800000      7.400000   \nmax        33.900000      48.100000     371.000000    145.000000   \n\n           Sunshine   WindSpeed9am   WindSpeed3pm    Humidity9am  \\\ncount  75625.000000  143693.000000  142398.000000  142806.000000   \nmean       7.611178      14.043426      18.662657      68.880831   \nstd        3.785483       8.915375       8.809800      19.029164   \nmin        0.000000       0.000000       0.000000       0.000000   \n25%        4.800000       7.000000      13.000000      57.000000   \n50%        8.400000      13.000000      19.000000      70.000000   \n75%       10.600000      19.000000      24.000000      83.000000   \nmax       14.500000     130.000000      87.000000     100.000000   \n\n         Humidity3pm   Pressure9am    Pressure3pm      Cloud9am      Cloud3pm  \\\ncount  140953.000000  130395.00000  130432.000000  89572.000000  86102.000000   \nmean       51.539116    1017.64994    1015.255889      4.447461      4.509930   \nstd        20.795902       7.10653       7.037414      2.887159      2.720357   \nmin         0.000000     980.50000     977.100000      0.000000      0.000000   \n25%        37.000000    1012.90000    1010.400000      1.000000      2.000000   \n50%        52.000000    1017.60000    1015.200000      5.000000      5.000000   \n75%        66.000000    1022.40000    1020.000000      7.000000      7.000000   \nmax       100.000000    1041.00000    1039.600000      9.000000      9.000000   \n\n             Temp9am       Temp3pm        RISK_MM   RainTomorrow  \ncount  143693.000000  141851.00000  142193.000000  142193.000000  \nmean       16.990631      21.68339       2.360682       0.224181  \nstd         6.488753       6.93665       8.477969       0.417043  \nmin        -7.200000      -5.40000       0.000000       0.000000  \n25%        12.300000      16.60000       0.000000       0.000000  \n50%        16.700000      21.10000       0.000000       0.000000  \n75%        21.600000      26.40000       0.800000       0.000000  \nmax        40.200000      46.70000     371.000000       1.000000  "
          },
          "metadata": {}
        }
      ]
    },
    {
      "metadata": {
        "trusted": true
      },
      "cell_type": "code",
      "source": "data=data.drop(columns=['Sunshine','Evaporation','Cloud9am','Cloud3pm','RISK_MM'],axis=1)\ndata.shape",
      "execution_count": 91,
      "outputs": [
        {
          "output_type": "execute_result",
          "execution_count": 91,
          "data": {
            "text/plain": "(145460, 12)"
          },
          "metadata": {}
        }
      ]
    },
    {
      "metadata": {
        "trusted": true
      },
      "cell_type": "code",
      "source": "np.sum(data.isnull())",
      "execution_count": 92,
      "outputs": [
        {
          "output_type": "execute_result",
          "execution_count": 92,
          "data": {
            "text/plain": "MinTemp          1485\nMaxTemp          1261\nRainfall         3261\nWindSpeed9am     1767\nWindSpeed3pm     3062\nHumidity9am      2654\nHumidity3pm      4507\nPressure9am     15065\nPressure3pm     15028\nTemp9am          1767\nTemp3pm          3609\nRainTomorrow     3267\ndtype: int64"
          },
          "metadata": {}
        }
      ]
    },
    {
      "metadata": {
        "trusted": true
      },
      "cell_type": "code",
      "source": "data['MinTemp']=data['MinTemp'].fillna(data['MinTemp'].mean())\ndata['MaxTemp']=data['MaxTemp'].fillna(data['MaxTemp'].mean())\ndata['Rainfall']=data['Rainfall'].fillna(data['Rainfall'].mean())\ndata['WindSpeed9am']=data['WindSpeed9am'].fillna(data['WindSpeed9am'].mean())\ndata['WindSpeed3pm']=data['WindSpeed3pm'].fillna(data['WindSpeed3pm'].mean())\ndata['Humidity9am']=data['Humidity9am'].fillna(data['Humidity9am'].mean())\ndata['Humidity3pm']=data['Humidity3pm'].fillna(data['Humidity3pm'].mean())\ndata['Pressure9am']=data['Pressure9am'].fillna(data['Pressure9am'].mean())\ndata['Pressure3pm']=data['Pressure3pm'].fillna(data['Pressure3pm'].mean())\ndata['Temp9am']=data['Temp9am'].fillna(data['Temp9am'].mean())\ndata['Temp3pm']=data['Temp3pm'].fillna(data['Temp3pm'].mean())\nnp.sum(data.isnull())",
      "execution_count": 93,
      "outputs": [
        {
          "output_type": "execute_result",
          "execution_count": 93,
          "data": {
            "text/plain": "MinTemp            0\nMaxTemp            0\nRainfall           0\nWindSpeed9am       0\nWindSpeed3pm       0\nHumidity9am        0\nHumidity3pm        0\nPressure9am        0\nPressure3pm        0\nTemp9am            0\nTemp3pm            0\nRainTomorrow    3267\ndtype: int64"
          },
          "metadata": {}
        }
      ]
    },
    {
      "metadata": {
        "trusted": true
      },
      "cell_type": "code",
      "source": "from scipy.stats import stats\nz = np.abs(stats.zscore(data._get_numeric_data()))\nprint(z)",
      "execution_count": 94,
      "outputs": [
        {
          "output_type": "stream",
          "text": "[[1.89446615e-01 4.53363105e-02 2.10071794e-01 ... 1.40531282e-02\n  1.70232282e-02            nan]\n [7.53100728e-01 2.65043084e-01 2.81649838e-01 ... 3.24642790e-02\n  3.81984952e-01            nan]\n [1.10901003e-01 3.49692009e-01 2.81649838e-01 ... 6.21684769e-01\n  2.21401794e-01            nan]\n ...\n [1.06728318e+00 5.18989861e-01 2.81649838e-01 ... 6.96308433e-01\n  6.44757393e-01            nan]\n [6.90264238e-01 5.33098015e-01 2.81649838e-01 ... 2.93157571e-01\n  6.30158924e-01            nan]\n [4.25083451e-01 2.10513377e-14 2.81649838e-01 ... 3.08663373e-01\n  1.14362992e-01            nan]]\n",
          "name": "stdout"
        }
      ]
    },
    {
      "metadata": {
        "trusted": true
      },
      "cell_type": "code",
      "source": "print(np.where(z>3))\ndata1=data[(z<3).all(axis=1)]\nprint(data.shape)\nprint(data1.shape)",
      "execution_count": 95,
      "outputs": [
        {
          "output_type": "stream",
          "text": "/home/nbuser/anaconda3_501/lib/python3.6/site-packages/ipykernel/__main__.py:1: RuntimeWarning: invalid value encountered in greater\n  if __name__ == '__main__':\n/home/nbuser/anaconda3_501/lib/python3.6/site-packages/ipykernel/__main__.py:2: RuntimeWarning: invalid value encountered in less\n  from ipykernel import kernelapp as app\n",
          "name": "stderr"
        },
        {
          "output_type": "stream",
          "text": "(array([    12,     12,     52, ..., 145279, 145279, 145393]), array([7, 8, 4, ..., 2, 8, 2]))\n(145460, 12)\n(0, 12)\n",
          "name": "stdout"
        }
      ]
    },
    {
      "metadata": {
        "trusted": true
      },
      "cell_type": "code",
      "source": "x=data.iloc[0:139135,1:11]\nx.tail()",
      "execution_count": 96,
      "outputs": [
        {
          "output_type": "execute_result",
          "execution_count": 96,
          "data": {
            "text/html": "<div>\n<style scoped>\n    .dataframe tbody tr th:only-of-type {\n        vertical-align: middle;\n    }\n\n    .dataframe tbody tr th {\n        vertical-align: top;\n    }\n\n    .dataframe thead th {\n        text-align: right;\n    }\n</style>\n<table border=\"1\" class=\"dataframe\">\n  <thead>\n    <tr style=\"text-align: right;\">\n      <th></th>\n      <th>MaxTemp</th>\n      <th>Rainfall</th>\n      <th>WindSpeed9am</th>\n      <th>WindSpeed3pm</th>\n      <th>Humidity9am</th>\n      <th>Humidity3pm</th>\n      <th>Pressure9am</th>\n      <th>Pressure3pm</th>\n      <th>Temp9am</th>\n      <th>Temp3pm</th>\n    </tr>\n  </thead>\n  <tbody>\n    <tr>\n      <th>139130</th>\n      <td>31.4</td>\n      <td>0.0</td>\n      <td>7.0</td>\n      <td>22.0</td>\n      <td>83.0</td>\n      <td>72.0</td>\n      <td>1013.6</td>\n      <td>1010.0</td>\n      <td>25.2</td>\n      <td>28.3</td>\n    </tr>\n    <tr>\n      <th>139131</th>\n      <td>32.7</td>\n      <td>0.0</td>\n      <td>22.0</td>\n      <td>22.0</td>\n      <td>70.0</td>\n      <td>36.0</td>\n      <td>1012.2</td>\n      <td>1009.0</td>\n      <td>24.0</td>\n      <td>30.9</td>\n    </tr>\n    <tr>\n      <th>139132</th>\n      <td>32.5</td>\n      <td>0.0</td>\n      <td>26.0</td>\n      <td>19.0</td>\n      <td>30.0</td>\n      <td>28.0</td>\n      <td>1012.8</td>\n      <td>1009.1</td>\n      <td>24.8</td>\n      <td>31.8</td>\n    </tr>\n    <tr>\n      <th>139133</th>\n      <td>30.9</td>\n      <td>0.0</td>\n      <td>31.0</td>\n      <td>26.0</td>\n      <td>30.0</td>\n      <td>20.0</td>\n      <td>1014.4</td>\n      <td>1010.7</td>\n      <td>22.9</td>\n      <td>30.3</td>\n    </tr>\n    <tr>\n      <th>139134</th>\n      <td>29.1</td>\n      <td>0.0</td>\n      <td>28.0</td>\n      <td>15.0</td>\n      <td>27.0</td>\n      <td>19.0</td>\n      <td>1014.5</td>\n      <td>1010.3</td>\n      <td>20.5</td>\n      <td>28.3</td>\n    </tr>\n  </tbody>\n</table>\n</div>",
            "text/plain": "        MaxTemp  Rainfall  WindSpeed9am  WindSpeed3pm  Humidity9am  \\\n139130     31.4       0.0           7.0          22.0         83.0   \n139131     32.7       0.0          22.0          22.0         70.0   \n139132     32.5       0.0          26.0          19.0         30.0   \n139133     30.9       0.0          31.0          26.0         30.0   \n139134     29.1       0.0          28.0          15.0         27.0   \n\n        Humidity3pm  Pressure9am  Pressure3pm  Temp9am  Temp3pm  \n139130         72.0       1013.6       1010.0     25.2     28.3  \n139131         36.0       1012.2       1009.0     24.0     30.9  \n139132         28.0       1012.8       1009.1     24.8     31.8  \n139133         20.0       1014.4       1010.7     22.9     30.3  \n139134         19.0       1014.5       1010.3     20.5     28.3  "
          },
          "metadata": {}
        }
      ]
    },
    {
      "metadata": {
        "trusted": true
      },
      "cell_type": "code",
      "source": "#normalization\nfrom sklearn.preprocessing import normalize\nxnorm=normalize(x,norm='l2') #default norm l2, other are l1 and max\nxnorm=pd.DataFrame(xnorm)\nxnorm.tail()",
      "execution_count": 97,
      "outputs": [
        {
          "output_type": "execute_result",
          "execution_count": 97,
          "data": {
            "text/html": "<div>\n<style scoped>\n    .dataframe tbody tr th:only-of-type {\n        vertical-align: middle;\n    }\n\n    .dataframe tbody tr th {\n        vertical-align: top;\n    }\n\n    .dataframe thead th {\n        text-align: right;\n    }\n</style>\n<table border=\"1\" class=\"dataframe\">\n  <thead>\n    <tr style=\"text-align: right;\">\n      <th></th>\n      <th>0</th>\n      <th>1</th>\n      <th>2</th>\n      <th>3</th>\n      <th>4</th>\n      <th>5</th>\n      <th>6</th>\n      <th>7</th>\n      <th>8</th>\n      <th>9</th>\n    </tr>\n  </thead>\n  <tbody>\n    <tr>\n      <th>139130</th>\n      <td>0.021864</td>\n      <td>0.0</td>\n      <td>0.004874</td>\n      <td>0.015319</td>\n      <td>0.057794</td>\n      <td>0.050134</td>\n      <td>0.705778</td>\n      <td>0.703272</td>\n      <td>0.017547</td>\n      <td>0.019706</td>\n    </tr>\n    <tr>\n      <th>139131</th>\n      <td>0.022825</td>\n      <td>0.0</td>\n      <td>0.015357</td>\n      <td>0.015357</td>\n      <td>0.048862</td>\n      <td>0.025129</td>\n      <td>0.706539</td>\n      <td>0.704305</td>\n      <td>0.016753</td>\n      <td>0.021569</td>\n    </tr>\n    <tr>\n      <th>139132</th>\n      <td>0.022702</td>\n      <td>0.0</td>\n      <td>0.018162</td>\n      <td>0.013272</td>\n      <td>0.020956</td>\n      <td>0.019559</td>\n      <td>0.707465</td>\n      <td>0.704881</td>\n      <td>0.017323</td>\n      <td>0.022213</td>\n    </tr>\n    <tr>\n      <th>139133</th>\n      <td>0.021551</td>\n      <td>0.0</td>\n      <td>0.021620</td>\n      <td>0.018133</td>\n      <td>0.020923</td>\n      <td>0.013949</td>\n      <td>0.707478</td>\n      <td>0.704897</td>\n      <td>0.015971</td>\n      <td>0.021132</td>\n    </tr>\n    <tr>\n      <th>139134</th>\n      <td>0.020304</td>\n      <td>0.0</td>\n      <td>0.019537</td>\n      <td>0.010466</td>\n      <td>0.018839</td>\n      <td>0.013257</td>\n      <td>0.707853</td>\n      <td>0.704922</td>\n      <td>0.014304</td>\n      <td>0.019746</td>\n    </tr>\n  </tbody>\n</table>\n</div>",
            "text/plain": "               0    1         2         3         4         5         6  \\\n139130  0.021864  0.0  0.004874  0.015319  0.057794  0.050134  0.705778   \n139131  0.022825  0.0  0.015357  0.015357  0.048862  0.025129  0.706539   \n139132  0.022702  0.0  0.018162  0.013272  0.020956  0.019559  0.707465   \n139133  0.021551  0.0  0.021620  0.018133  0.020923  0.013949  0.707478   \n139134  0.020304  0.0  0.019537  0.010466  0.018839  0.013257  0.707853   \n\n               7         8         9  \n139130  0.703272  0.017547  0.019706  \n139131  0.704305  0.016753  0.021569  \n139132  0.704881  0.017323  0.022213  \n139133  0.704897  0.015971  0.021132  \n139134  0.704922  0.014304  0.019746  "
          },
          "metadata": {}
        }
      ]
    },
    {
      "metadata": {
        "trusted": true
      },
      "cell_type": "code",
      "source": "#feature selection\nfrom sklearn.feature_selection import SelectKBest, chi2\nXx=data.drop(columns=['RainTomorrow'])\ny=data['RainTomorrow']\nselector=SelectKBest(chi2, k=\"all\").fit(Xx,y)\nX_new=selector.transform(Xx)\nscores=selector.scores_\nscores",
      "execution_count": 99,
      "outputs": [
        {
          "output_type": "error",
          "ename": "ValueError",
          "evalue": "Input contains NaN, infinity or a value too large for dtype('float64').",
          "traceback": [
            "\u001b[0;31m---------------------------------------------------------------------------\u001b[0m",
            "\u001b[0;31mValueError\u001b[0m                                Traceback (most recent call last)",
            "\u001b[0;32m<ipython-input-99-871077d549a9>\u001b[0m in \u001b[0;36m<module>\u001b[0;34m\u001b[0m\n\u001b[1;32m      3\u001b[0m \u001b[0mXx\u001b[0m\u001b[0;34m=\u001b[0m\u001b[0mdata\u001b[0m\u001b[0;34m.\u001b[0m\u001b[0mdrop\u001b[0m\u001b[0;34m(\u001b[0m\u001b[0mcolumns\u001b[0m\u001b[0;34m=\u001b[0m\u001b[0;34m[\u001b[0m\u001b[0;34m'RainTomorrow'\u001b[0m\u001b[0;34m]\u001b[0m\u001b[0;34m)\u001b[0m\u001b[0;34m\u001b[0m\u001b[0m\n\u001b[1;32m      4\u001b[0m \u001b[0my\u001b[0m\u001b[0;34m=\u001b[0m\u001b[0mdata\u001b[0m\u001b[0;34m[\u001b[0m\u001b[0;34m'RainTomorrow'\u001b[0m\u001b[0;34m]\u001b[0m\u001b[0;34m\u001b[0m\u001b[0m\n\u001b[0;32m----> 5\u001b[0;31m \u001b[0mselector\u001b[0m\u001b[0;34m=\u001b[0m\u001b[0mSelectKBest\u001b[0m\u001b[0;34m(\u001b[0m\u001b[0mchi2\u001b[0m\u001b[0;34m,\u001b[0m \u001b[0mk\u001b[0m\u001b[0;34m=\u001b[0m\u001b[0;34m\"all\"\u001b[0m\u001b[0;34m)\u001b[0m\u001b[0;34m.\u001b[0m\u001b[0mfit\u001b[0m\u001b[0;34m(\u001b[0m\u001b[0mXx\u001b[0m\u001b[0;34m,\u001b[0m\u001b[0my\u001b[0m\u001b[0;34m)\u001b[0m\u001b[0;34m\u001b[0m\u001b[0m\n\u001b[0m\u001b[1;32m      6\u001b[0m \u001b[0mX_new\u001b[0m\u001b[0;34m=\u001b[0m\u001b[0mselector\u001b[0m\u001b[0;34m.\u001b[0m\u001b[0mtransform\u001b[0m\u001b[0;34m(\u001b[0m\u001b[0mXx\u001b[0m\u001b[0;34m)\u001b[0m\u001b[0;34m\u001b[0m\u001b[0m\n\u001b[1;32m      7\u001b[0m \u001b[0mscores\u001b[0m\u001b[0;34m=\u001b[0m\u001b[0mselector\u001b[0m\u001b[0;34m.\u001b[0m\u001b[0mscores_\u001b[0m\u001b[0;34m\u001b[0m\u001b[0m\n",
            "\u001b[0;32m~/anaconda3_501/lib/python3.6/site-packages/sklearn/feature_selection/univariate_selection.py\u001b[0m in \u001b[0;36mfit\u001b[0;34m(self, X, y)\u001b[0m\n\u001b[1;32m    339\u001b[0m             \u001b[0mReturns\u001b[0m \u001b[0mself\u001b[0m\u001b[0;34m.\u001b[0m\u001b[0;34m\u001b[0m\u001b[0m\n\u001b[1;32m    340\u001b[0m         \"\"\"\n\u001b[0;32m--> 341\u001b[0;31m         \u001b[0mX\u001b[0m\u001b[0;34m,\u001b[0m \u001b[0my\u001b[0m \u001b[0;34m=\u001b[0m \u001b[0mcheck_X_y\u001b[0m\u001b[0;34m(\u001b[0m\u001b[0mX\u001b[0m\u001b[0;34m,\u001b[0m \u001b[0my\u001b[0m\u001b[0;34m,\u001b[0m \u001b[0;34m[\u001b[0m\u001b[0;34m'csr'\u001b[0m\u001b[0;34m,\u001b[0m \u001b[0;34m'csc'\u001b[0m\u001b[0;34m]\u001b[0m\u001b[0;34m,\u001b[0m \u001b[0mmulti_output\u001b[0m\u001b[0;34m=\u001b[0m\u001b[0;32mTrue\u001b[0m\u001b[0;34m)\u001b[0m\u001b[0;34m\u001b[0m\u001b[0m\n\u001b[0m\u001b[1;32m    342\u001b[0m \u001b[0;34m\u001b[0m\u001b[0m\n\u001b[1;32m    343\u001b[0m         \u001b[0;32mif\u001b[0m \u001b[0;32mnot\u001b[0m \u001b[0mcallable\u001b[0m\u001b[0;34m(\u001b[0m\u001b[0mself\u001b[0m\u001b[0;34m.\u001b[0m\u001b[0mscore_func\u001b[0m\u001b[0;34m)\u001b[0m\u001b[0;34m:\u001b[0m\u001b[0;34m\u001b[0m\u001b[0m\n",
            "\u001b[0;32m~/anaconda3_501/lib/python3.6/site-packages/sklearn/utils/validation.py\u001b[0m in \u001b[0;36mcheck_X_y\u001b[0;34m(X, y, accept_sparse, dtype, order, copy, force_all_finite, ensure_2d, allow_nd, multi_output, ensure_min_samples, ensure_min_features, y_numeric, warn_on_dtype, estimator)\u001b[0m\n\u001b[1;32m    574\u001b[0m     \u001b[0;32mif\u001b[0m \u001b[0mmulti_output\u001b[0m\u001b[0;34m:\u001b[0m\u001b[0;34m\u001b[0m\u001b[0m\n\u001b[1;32m    575\u001b[0m         y = check_array(y, 'csr', force_all_finite=True, ensure_2d=False,\n\u001b[0;32m--> 576\u001b[0;31m                         dtype=None)\n\u001b[0m\u001b[1;32m    577\u001b[0m     \u001b[0;32melse\u001b[0m\u001b[0;34m:\u001b[0m\u001b[0;34m\u001b[0m\u001b[0m\n\u001b[1;32m    578\u001b[0m         \u001b[0my\u001b[0m \u001b[0;34m=\u001b[0m \u001b[0mcolumn_or_1d\u001b[0m\u001b[0;34m(\u001b[0m\u001b[0my\u001b[0m\u001b[0;34m,\u001b[0m \u001b[0mwarn\u001b[0m\u001b[0;34m=\u001b[0m\u001b[0;32mTrue\u001b[0m\u001b[0;34m)\u001b[0m\u001b[0;34m\u001b[0m\u001b[0m\n",
            "\u001b[0;32m~/anaconda3_501/lib/python3.6/site-packages/sklearn/utils/validation.py\u001b[0m in \u001b[0;36mcheck_array\u001b[0;34m(array, accept_sparse, dtype, order, copy, force_all_finite, ensure_2d, allow_nd, ensure_min_samples, ensure_min_features, warn_on_dtype, estimator)\u001b[0m\n\u001b[1;32m    451\u001b[0m                              % (array.ndim, estimator_name))\n\u001b[1;32m    452\u001b[0m         \u001b[0;32mif\u001b[0m \u001b[0mforce_all_finite\u001b[0m\u001b[0;34m:\u001b[0m\u001b[0;34m\u001b[0m\u001b[0m\n\u001b[0;32m--> 453\u001b[0;31m             \u001b[0m_assert_all_finite\u001b[0m\u001b[0;34m(\u001b[0m\u001b[0marray\u001b[0m\u001b[0;34m)\u001b[0m\u001b[0;34m\u001b[0m\u001b[0m\n\u001b[0m\u001b[1;32m    454\u001b[0m \u001b[0;34m\u001b[0m\u001b[0m\n\u001b[1;32m    455\u001b[0m     \u001b[0mshape_repr\u001b[0m \u001b[0;34m=\u001b[0m \u001b[0m_shape_repr\u001b[0m\u001b[0;34m(\u001b[0m\u001b[0marray\u001b[0m\u001b[0;34m.\u001b[0m\u001b[0mshape\u001b[0m\u001b[0;34m)\u001b[0m\u001b[0;34m\u001b[0m\u001b[0m\n",
            "\u001b[0;32m~/anaconda3_501/lib/python3.6/site-packages/sklearn/utils/validation.py\u001b[0m in \u001b[0;36m_assert_all_finite\u001b[0;34m(X)\u001b[0m\n\u001b[1;32m     42\u001b[0m             and not np.isfinite(X).all()):\n\u001b[1;32m     43\u001b[0m         raise ValueError(\"Input contains NaN, infinity\"\n\u001b[0;32m---> 44\u001b[0;31m                          \" or a value too large for %r.\" % X.dtype)\n\u001b[0m\u001b[1;32m     45\u001b[0m \u001b[0;34m\u001b[0m\u001b[0m\n\u001b[1;32m     46\u001b[0m \u001b[0;34m\u001b[0m\u001b[0m\n",
            "\u001b[0;31mValueError\u001b[0m: Input contains NaN, infinity or a value too large for dtype('float64')."
          ]
        }
      ]
    },
    {
      "metadata": {
        "trusted": true
      },
      "cell_type": "code",
      "source": "",
      "execution_count": null,
      "outputs": []
    }
  ],
  "metadata": {
    "kernelspec": {
      "name": "python36",
      "display_name": "Python 3.6",
      "language": "python"
    },
    "language_info": {
      "mimetype": "text/x-python",
      "nbconvert_exporter": "python",
      "name": "python",
      "pygments_lexer": "ipython3",
      "version": "3.6.6",
      "file_extension": ".py",
      "codemirror_mode": {
        "version": 3,
        "name": "ipython"
      }
    }
  },
  "nbformat": 4,
  "nbformat_minor": 2
}